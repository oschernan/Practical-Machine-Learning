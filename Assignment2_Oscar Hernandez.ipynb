{
 "cells": [
  {
   "cell_type": "markdown",
   "metadata": {},
   "source": [
    "# Assignment 2: Evaluating Classification Models - Oscar Hernandez "
   ]
  },
  {
   "cell_type": "markdown",
   "metadata": {},
   "source": [
    "## Purpose"
   ]
  },
  {
   "cell_type": "markdown",
   "metadata": {},
   "source": [
    "The purpose of this report is to outline the work that was involved as part of our advisory role with a Portuguese Bank. The bank is interested in identifying factors that affect client responses to new term deposit offerings. They conducted seventeen telephone marketing campaigns between May 2008 and November 2010. They have supplied us with this customer data which includes a variety of variables such as level of education, type of job and age. One of our end goals is to advise the bank which machine learning model will be most beneficial to their telephone marketing campaigns. "
   ]
  },
  {
   "cell_type": "markdown",
   "metadata": {},
   "source": [
    "#### This report will be broken up into Sections that cover the specific methodology that went into arriving at the final recommendation. The report will include and/or cover, at minimum, the following specific items and/or tasks:\n",
    "* Utilize the Bank Marketing Study data to build several classifiers that will help drive decision making \n",
    "* Use three binary explanatory variables relating to client banking history: default, housing and loan \n",
    "* The binary response variable will answer: Has the client subscribed to a term deposit? \n",
    "* We will only utilize observations in the data set that no missing values for the variables of interest \n",
    "* Develop two classifiers - Logistic Regression and Naïve Bayes  \n",
    "* Use K-fold cross-validation to validate these classifiers along with AUC as an index of classification performance \n",
    "* Provide final recommendation to the bank we are advising which includes stating which model is the best and why. Also, we will tell the bank which group of banking clients appears to be the best target for direct marketing efforts. \n"
   ]
  },
  {
   "cell_type": "markdown",
   "metadata": {},
   "source": [
    "### Section 1 - Exploratory Data Analysis"
   ]
  },
  {
   "cell_type": "markdown",
   "metadata": {},
   "source": [
    "#### The first step in building a machine learning model is to gain a firm understanding of the data that will be used to train the model. Section 1 covers all the work that was completed as part of the Exploratory Data Analysis (EDA) process along with comments explaining code and output wherever necessary. "
   ]
  },
  {
   "cell_type": "code",
   "execution_count": 95,
   "metadata": {
    "collapsed": true
   },
   "outputs": [],
   "source": [
    "#Load all the necessary packages we need to complete the exercise\n",
    "\n",
    "import pandas as pd\n",
    "import numpy as np\n",
    "import matplotlib as plt\n",
    "import nbconvert\n",
    "from sklearn.linear_model import LogisticRegression\n",
    "from sklearn.model_selection import cross_val_score\n",
    "from sklearn.model_selection import train_test_split\n",
    "from sklearn.naive_bayes import BernoulliNB\n",
    "from sklearn.metrics import roc_curve\n",
    "from sklearn.model_selection import cross_val_predict\n",
    "from sklearn.metrics import roc_auc_score\n",
    "from sklearn.model_selection import KFold"
   ]
  },
  {
   "cell_type": "code",
   "execution_count": 21,
   "metadata": {
    "collapsed": true
   },
   "outputs": [],
   "source": [
    "#Load the data set provided to us from the bank \n",
    "bank_input = pd.read_csv(\"bank.csv\", sep = \";\")"
   ]
  },
  {
   "cell_type": "code",
   "execution_count": 22,
   "metadata": {},
   "outputs": [
    {
     "data": {
      "text/html": [
       "<div>\n",
       "<style>\n",
       "    .dataframe thead tr:only-child th {\n",
       "        text-align: right;\n",
       "    }\n",
       "\n",
       "    .dataframe thead th {\n",
       "        text-align: left;\n",
       "    }\n",
       "\n",
       "    .dataframe tbody tr th {\n",
       "        vertical-align: top;\n",
       "    }\n",
       "</style>\n",
       "<table border=\"1\" class=\"dataframe\">\n",
       "  <thead>\n",
       "    <tr style=\"text-align: right;\">\n",
       "      <th></th>\n",
       "      <th>age</th>\n",
       "      <th>balance</th>\n",
       "      <th>day</th>\n",
       "      <th>duration</th>\n",
       "      <th>campaign</th>\n",
       "      <th>pdays</th>\n",
       "      <th>previous</th>\n",
       "    </tr>\n",
       "  </thead>\n",
       "  <tbody>\n",
       "    <tr>\n",
       "      <th>count</th>\n",
       "      <td>4521.000000</td>\n",
       "      <td>4521.000000</td>\n",
       "      <td>4521.000000</td>\n",
       "      <td>4521.000000</td>\n",
       "      <td>4521.000000</td>\n",
       "      <td>4521.000000</td>\n",
       "      <td>4521.000000</td>\n",
       "    </tr>\n",
       "    <tr>\n",
       "      <th>mean</th>\n",
       "      <td>41.170095</td>\n",
       "      <td>1422.657819</td>\n",
       "      <td>15.915284</td>\n",
       "      <td>263.961292</td>\n",
       "      <td>2.793630</td>\n",
       "      <td>39.766645</td>\n",
       "      <td>0.542579</td>\n",
       "    </tr>\n",
       "    <tr>\n",
       "      <th>std</th>\n",
       "      <td>10.576211</td>\n",
       "      <td>3009.638142</td>\n",
       "      <td>8.247667</td>\n",
       "      <td>259.856633</td>\n",
       "      <td>3.109807</td>\n",
       "      <td>100.121124</td>\n",
       "      <td>1.693562</td>\n",
       "    </tr>\n",
       "    <tr>\n",
       "      <th>min</th>\n",
       "      <td>19.000000</td>\n",
       "      <td>-3313.000000</td>\n",
       "      <td>1.000000</td>\n",
       "      <td>4.000000</td>\n",
       "      <td>1.000000</td>\n",
       "      <td>-1.000000</td>\n",
       "      <td>0.000000</td>\n",
       "    </tr>\n",
       "    <tr>\n",
       "      <th>25%</th>\n",
       "      <td>33.000000</td>\n",
       "      <td>69.000000</td>\n",
       "      <td>9.000000</td>\n",
       "      <td>104.000000</td>\n",
       "      <td>1.000000</td>\n",
       "      <td>-1.000000</td>\n",
       "      <td>0.000000</td>\n",
       "    </tr>\n",
       "    <tr>\n",
       "      <th>50%</th>\n",
       "      <td>39.000000</td>\n",
       "      <td>444.000000</td>\n",
       "      <td>16.000000</td>\n",
       "      <td>185.000000</td>\n",
       "      <td>2.000000</td>\n",
       "      <td>-1.000000</td>\n",
       "      <td>0.000000</td>\n",
       "    </tr>\n",
       "    <tr>\n",
       "      <th>75%</th>\n",
       "      <td>49.000000</td>\n",
       "      <td>1480.000000</td>\n",
       "      <td>21.000000</td>\n",
       "      <td>329.000000</td>\n",
       "      <td>3.000000</td>\n",
       "      <td>-1.000000</td>\n",
       "      <td>0.000000</td>\n",
       "    </tr>\n",
       "    <tr>\n",
       "      <th>max</th>\n",
       "      <td>87.000000</td>\n",
       "      <td>71188.000000</td>\n",
       "      <td>31.000000</td>\n",
       "      <td>3025.000000</td>\n",
       "      <td>50.000000</td>\n",
       "      <td>871.000000</td>\n",
       "      <td>25.000000</td>\n",
       "    </tr>\n",
       "  </tbody>\n",
       "</table>\n",
       "</div>"
      ],
      "text/plain": [
       "               age       balance          day     duration     campaign  \\\n",
       "count  4521.000000   4521.000000  4521.000000  4521.000000  4521.000000   \n",
       "mean     41.170095   1422.657819    15.915284   263.961292     2.793630   \n",
       "std      10.576211   3009.638142     8.247667   259.856633     3.109807   \n",
       "min      19.000000  -3313.000000     1.000000     4.000000     1.000000   \n",
       "25%      33.000000     69.000000     9.000000   104.000000     1.000000   \n",
       "50%      39.000000    444.000000    16.000000   185.000000     2.000000   \n",
       "75%      49.000000   1480.000000    21.000000   329.000000     3.000000   \n",
       "max      87.000000  71188.000000    31.000000  3025.000000    50.000000   \n",
       "\n",
       "             pdays     previous  \n",
       "count  4521.000000  4521.000000  \n",
       "mean     39.766645     0.542579  \n",
       "std     100.121124     1.693562  \n",
       "min      -1.000000     0.000000  \n",
       "25%      -1.000000     0.000000  \n",
       "50%      -1.000000     0.000000  \n",
       "75%      -1.000000     0.000000  \n",
       "max     871.000000    25.000000  "
      ]
     },
     "execution_count": 22,
     "metadata": {},
     "output_type": "execute_result"
    }
   ],
   "source": [
    "#This method outputs descriptive statistics\n",
    "#Gives useful insight into numerical features\n",
    "bank_input.describe()"
   ]
  },
  {
   "cell_type": "code",
   "execution_count": 24,
   "metadata": {},
   "outputs": [
    {
     "name": "stdout",
     "output_type": "stream",
     "text": [
      "<class 'pandas.core.frame.DataFrame'>\n",
      "RangeIndex: 4521 entries, 0 to 4520\n",
      "Data columns (total 17 columns):\n",
      "age          4521 non-null int64\n",
      "job          4521 non-null object\n",
      "marital      4521 non-null object\n",
      "education    4521 non-null object\n",
      "default      4521 non-null object\n",
      "balance      4521 non-null int64\n",
      "housing      4521 non-null object\n",
      "loan         4521 non-null object\n",
      "contact      4521 non-null object\n",
      "day          4521 non-null int64\n",
      "month        4521 non-null object\n",
      "duration     4521 non-null int64\n",
      "campaign     4521 non-null int64\n",
      "pdays        4521 non-null int64\n",
      "previous     4521 non-null int64\n",
      "poutcome     4521 non-null object\n",
      "response     4521 non-null object\n",
      "dtypes: int64(7), object(10)\n",
      "memory usage: 600.5+ KB\n"
     ]
    }
   ],
   "source": [
    "#This method lets us quickly see if we have any missing values\n",
    "bank_input.info()"
   ]
  },
  {
   "cell_type": "code",
   "execution_count": 25,
   "metadata": {},
   "outputs": [
    {
     "data": {
      "image/png": "[encoded data removed]",
      "text/plain": [
       "<matplotlib.figure.Figure at 0x242164b9ba8>"
      ]
     },
     "metadata": {},
     "output_type": "display_data"
    }
   ],
   "source": [
    "#Let's plot the distribution of some features\n",
    "#This provides us with visual insight of our features\n",
    "%matplotlib inline\n",
    "bank_input.hist(bins = 40, figsize=(30,25));"
   ]
  },
  {
   "cell_type": "code",
   "execution_count": 110,
   "metadata": {},
   "outputs": [
    {
     "data": {
      "image/png": "[encoded data removed]",
      "text/plain": [
       "<matplotlib.figure.Figure at 0x24216f83b00>"
      ]
     },
     "metadata": {},
     "output_type": "display_data"
    }
   ],
   "source": [
    "#let's inspect the label - response\n",
    "bank_input[\"response\"].hist();"
   ]
  },
  {
   "cell_type": "markdown",
   "metadata": {},
   "source": [
    "###### Key Takeaways (nonexhaustive)\n",
    "* It appears that the majority of the features are categorical \n",
    "* The majority of the customers are in their mid-30s\n",
    "* Some of the numerical features seem to be zero-inflated \n",
    "* The data set did not contain any missing values \n",
    "* Majority of the customers rejected the term deposit offer"
   ]
  },
  {
   "cell_type": "markdown",
   "metadata": {},
   "source": [
    "### Section 2 - Data Preparation "
   ]
  },
  {
   "cell_type": "markdown",
   "metadata": {},
   "source": [
    "#### Upon completing the initial EDA process, we got a better understanding of the features that make up the data set. The next section in this exercise is to prepare the data that will be used to train the classifiers.  Typically, this step involves imputing missing values, determining how to deal with outliers, and fixing any erroneous values. Also, variable transformation and feature scaling must be considered as well during this step. "
   ]
  },
  {
   "cell_type": "code",
   "execution_count": 46,
   "metadata": {
    "collapsed": true
   },
   "outputs": [],
   "source": [
    "#Make a copy of the original data set\n",
    "bank = bank_input.copy()"
   ]
  },
  {
   "cell_type": "code",
   "execution_count": 48,
   "metadata": {
    "collapsed": true
   },
   "outputs": [],
   "source": [
    "#Reduce the data set to the proper features and label\n",
    "bank = bank[[\"default\", \"housing\", \"loan\", \"response\"]]"
   ]
  },
  {
   "cell_type": "code",
   "execution_count": 38,
   "metadata": {
    "collapsed": true
   },
   "outputs": [],
   "source": [
    "#Convert text no/yes to integer 0/1\n",
    "bank.replace(('yes', 'no'), (1, 0), inplace=True)"
   ]
  },
  {
   "cell_type": "code",
   "execution_count": 92,
   "metadata": {
    "collapsed": true
   },
   "outputs": [],
   "source": [
    "default = bank[\"default\"]\n",
    "housing = bank[\"housing\"]\n",
    "loan = bank[\"loan\"]\n",
    "response = bank[\"response\"]\n",
    "\n",
    "#Put these variables into one array\n",
    "bank_data = np.array([np.array(default), np.array(housing), np.array(loan), \n",
    "    np.array(response)]).T\n"
   ]
  },
  {
   "cell_type": "markdown",
   "metadata": {},
   "source": [
    "##### Key Takeaways\n",
    "* This section focused on reducing the initial data set to the main features\n",
    "* We converted all the text responses to binary responses\n",
    "* Features did not have missing values so there wasn't a need to impute"
   ]
  },
  {
   "cell_type": "markdown",
   "metadata": {},
   "source": [
    "### Section 3 - Build Models and Validate Model "
   ]
  },
  {
   "cell_type": "markdown",
   "metadata": {},
   "source": [
    "#### Now we will build a Logistic Regression and Naïve Bayes classification model based on the updated training data. We will continue to utilize Scikit-Learn in this section. Since this is a supervised learning exercise, we will have the labels separated as well. \n",
    "\n",
    "#### Evaluating each model based on an objective criteria is necessary to understand each model's effectiveness. For classification problems, we are interested in how well each model can correctly classify new instances that it would receive when in production. Predictive accuracy is of upmost importance because the bank we are advising will potentially utilize the classifier we recommend for future direct marketing efforts"
   ]
  },
  {
   "cell_type": "code",
   "execution_count": 106,
   "metadata": {
    "collapsed": true
   },
   "outputs": [],
   "source": [
    "#Initialize the classifiers that we want to use \n",
    "#Code credit belongs to \"jump-start-bank-v003-plus-solution.py\" file\n",
    "#from Marketing Data Science: Modeling Techniques\n",
    "#for Predictive Analytics with R and Python (Miller 2015)\n",
    "#jump-start code revised by Thomas W. Milller (2018/10/07)\n",
    "\n",
    "names = [\"Naive_Bayes\", \"Logistic_Regression\"]\n",
    "classifiers = [BernoulliNB(alpha=1.0, binarize=0.5, \n",
    "                           class_prior = [0.5, 0.5], fit_prior=False), \n",
    "               LogisticRegression()]"
   ]
  },
  {
   "cell_type": "code",
   "execution_count": 102,
   "metadata": {
    "collapsed": true
   },
   "outputs": [],
   "source": [
    "#Specify the # of folds and random seed\n",
    "r_seed = 10\n",
    "N_FOLDS = 4"
   ]
  },
  {
   "cell_type": "code",
   "execution_count": 111,
   "metadata": {},
   "outputs": [
    {
     "name": "stdout",
     "output_type": "stream",
     "text": [
      "\n",
      "Fold index: 0 ------------------------------------------\n",
      "\n",
      "Shape of input data for this fold: \n",
      "Data Set: (Observations, Variables)\n",
      "X_train: (3390, 3)\n",
      "X_test: (1131, 3)\n",
      "y_train: (3390,)\n",
      "y_test: (1131,)\n",
      "\n",
      "Classifier evaluation for: Naive_Bayes\n",
      "  Scikit Learn method: BernoulliNB(alpha=1.0, binarize=0.5, class_prior=[0.5, 0.5], fit_prior=False)\n",
      "Area under ROC curve: 0.60936259542\n",
      "\n",
      "Classifier evaluation for: Logistic_Regression\n",
      "  Scikit Learn method: LogisticRegression(C=1.0, class_weight=None, dual=False, fit_intercept=True,\n",
      "          intercept_scaling=1, max_iter=100, multi_class='ovr', n_jobs=1,\n",
      "          penalty='l2', random_state=None, solver='liblinear', tol=0.0001,\n",
      "          verbose=0, warm_start=False)\n",
      "Area under ROC curve: 0.60936259542\n",
      "\n",
      "Fold index: 1 ------------------------------------------\n",
      "\n",
      "Shape of input data for this fold: \n",
      "Data Set: (Observations, Variables)\n",
      "X_train: (3391, 3)\n",
      "X_test: (1130, 3)\n",
      "y_train: (3391,)\n",
      "y_test: (1130,)\n",
      "\n",
      "Classifier evaluation for: Naive_Bayes\n",
      "  Scikit Learn method: BernoulliNB(alpha=1.0, binarize=0.5, class_prior=[0.5, 0.5], fit_prior=False)\n",
      "Area under ROC curve: 0.621428571429\n",
      "\n",
      "Classifier evaluation for: Logistic_Regression\n",
      "  Scikit Learn method: LogisticRegression(C=1.0, class_weight=None, dual=False, fit_intercept=True,\n",
      "          intercept_scaling=1, max_iter=100, multi_class='ovr', n_jobs=1,\n",
      "          penalty='l2', random_state=None, solver='liblinear', tol=0.0001,\n",
      "          verbose=0, warm_start=False)\n",
      "Area under ROC curve: 0.621428571429\n",
      "\n",
      "Fold index: 2 ------------------------------------------\n",
      "\n",
      "Shape of input data for this fold: \n",
      "Data Set: (Observations, Variables)\n",
      "X_train: (3391, 3)\n",
      "X_test: (1130, 3)\n",
      "y_train: (3391,)\n",
      "y_test: (1130,)\n",
      "\n",
      "Classifier evaluation for: Naive_Bayes\n",
      "  Scikit Learn method: BernoulliNB(alpha=1.0, binarize=0.5, class_prior=[0.5, 0.5], fit_prior=False)\n",
      "Area under ROC curve: 0.603199305425\n",
      "\n",
      "Classifier evaluation for: Logistic_Regression\n",
      "  Scikit Learn method: LogisticRegression(C=1.0, class_weight=None, dual=False, fit_intercept=True,\n",
      "          intercept_scaling=1, max_iter=100, multi_class='ovr', n_jobs=1,\n",
      "          penalty='l2', random_state=None, solver='liblinear', tol=0.0001,\n",
      "          verbose=0, warm_start=False)\n",
      "Area under ROC curve: 0.603199305425\n",
      "\n",
      "Fold index: 3 ------------------------------------------\n",
      "\n",
      "Shape of input data for this fold: \n",
      "Data Set: (Observations, Variables)\n",
      "X_train: (3391, 3)\n",
      "X_test: (1130, 3)\n",
      "y_train: (3391,)\n",
      "y_test: (1130,)\n",
      "\n",
      "Classifier evaluation for: Naive_Bayes\n",
      "  Scikit Learn method: BernoulliNB(alpha=1.0, binarize=0.5, class_prior=[0.5, 0.5], fit_prior=False)\n",
      "Area under ROC curve: 0.594223605852\n",
      "\n",
      "Classifier evaluation for: Logistic_Regression\n",
      "  Scikit Learn method: LogisticRegression(C=1.0, class_weight=None, dual=False, fit_intercept=True,\n",
      "          intercept_scaling=1, max_iter=100, multi_class='ovr', n_jobs=1,\n",
      "          penalty='l2', random_state=None, solver='liblinear', tol=0.0001,\n",
      "          verbose=0, warm_start=False)\n",
      "Area under ROC curve: 0.594223605852\n",
      "\n",
      "----------------------------------------------\n",
      "Average results from 4-fold cross-validation\n",
      "\n",
      "Method                 Area under ROC Curve\n",
      "Naive_Bayes            0.607054\n",
      "Logistic_Regression    0.607054\n",
      "dtype: float64\n"
     ]
    }
   ],
   "source": [
    "#Complete the K-Fold validation \n",
    "cv_results = np.zeros((N_FOLDS, len(names)))\n",
    "kf = KFold(n_splits = N_FOLDS, shuffle=False, random_state = r_seed)\n",
    "\n",
    "index_for_fold = 0  # fold count initialized \n",
    "for train_index, test_index in kf.split(bank_data):\n",
    "    print('\\nFold index:', index_for_fold,\n",
    "          '------------------------------------------')    \n",
    "    X_train = bank_data[train_index, 0:bank_data.shape[1]-1]\n",
    "    X_test = bank_data[test_index, 0:bank_data.shape[1]-1]\n",
    "    y_train = bank_data[train_index, bank_data.shape[1]-1]\n",
    "    y_test = bank_data[test_index, bank_data.shape[1]-1]   \n",
    "    print('\\nShape of input data for this fold:',\n",
    "          '\\nData Set: (Observations, Variables)')\n",
    "    print('X_train:', X_train.shape)\n",
    "    print('X_test:',X_test.shape)\n",
    "    print('y_train:', y_train.shape)\n",
    "    print('y_test:',y_test.shape)\n",
    "\n",
    "    index_for_method = 0  # initialize\n",
    "    for name, clf in zip(names, classifiers):\n",
    "        print('\\nClassifier evaluation for:', name)\n",
    "        print('  Scikit Learn method:', clf)\n",
    "        clf.fit(X_train, y_train)  # fit on the train set for this fold\n",
    "        # evaluate on the test set for this fold\n",
    "        y_test_predict = clf.predict_proba(X_test)\n",
    "        fold_method_result = roc_auc_score(y_test, y_test_predict[:,1]) \n",
    "        print('Area under ROC curve:', fold_method_result)\n",
    "        cv_results[index_for_fold, index_for_method] = fold_method_result\n",
    "        index_for_method += 1\n",
    "  \n",
    "    index_for_fold += 1\n",
    "\n",
    "cv_results_df = pd.DataFrame(cv_results)\n",
    "cv_results_df.columns = names\n",
    "\n",
    "print('\\n----------------------------------------------')\n",
    "print('Average results from ', N_FOLDS, '-fold cross-validation\\n',\n",
    "      '\\nMethod                 Area under ROC Curve', sep = '')     \n",
    "print(cv_results_df.mean())   "
   ]
  },
  {
   "cell_type": "markdown",
   "metadata": {},
   "source": [
    "##### Key Takeaways\n",
    "* This section was straight-forward in the sense that Scikit-Learn was utilized to create both models\n",
    "* A 4-fold cross-validation was utilized which resulted in identical answers for both models\n",
    "* The AUC for both models was 0.607 which is not terribly good. An AUC closer to 1 is preferred "
   ]
  },
  {
   "cell_type": "markdown",
   "metadata": {},
   "source": [
    "### Section 5 - Final Recommendation"
   ]
  },
  {
   "cell_type": "code",
   "execution_count": 109,
   "metadata": {},
   "outputs": [
    {
     "name": "stdout",
     "output_type": "stream",
     "text": [
      "\n",
      "\n",
      "Logistic regression model predictions for test cases:\n",
      "   default  housing  loan  predict_NO  predict_YES\n",
      "0      1.0      1.0   1.0    0.945729     0.054271\n",
      "1      1.0      1.0   0.0    0.892349     0.107651\n",
      "2      1.0      0.0   1.0    0.900786     0.099214\n",
      "3      1.0      0.0   0.0    0.811988     0.188012\n",
      "4      0.0      1.0   1.0    0.953277     0.046723\n",
      "5      0.0      1.0   0.0    0.906588     0.093412\n",
      "6      0.0      0.0   1.0    0.914016     0.085984\n",
      "7      0.0      0.0   0.0    0.834890     0.165110\n"
     ]
    }
   ],
   "source": [
    "#Code credit belongs to \"jump-start-bank-v003-plus-solution.py\" file\n",
    "#from Marketing Data Science: Modeling Techniques\n",
    "#for Predictive Analytics with R and Python (Miller 2015)\n",
    "#jump-start code revised by Thomas W. Milller (2018/10/07)\n",
    "\n",
    "my_default = np.array([1, 1, 1, 1, 0, 0, 0, 0], np.int32)\n",
    "my_housing = np.array([1, 1, 0, 0, 1, 1, 0, 0], np.int32)\n",
    "my_loan = np.array([1, 0, 1, 0, 1, 0, 1, 0], np.int32)\n",
    "\n",
    "my_X_test = np.vstack([my_default, my_housing, my_loan]).T\n",
    "\n",
    "# Fit the logistic regression model since it had the same \n",
    "# performance as the nb model\n",
    "clf = LogisticRegression()\n",
    "X_train = bank_data[:, 0:bank_data.shape[1]-1]\n",
    "y_train = bank_data[:, bank_data.shape[1]-1]\n",
    "clf.fit(X_train, y_train)\n",
    "\n",
    "# Predict specific test cases\n",
    "y_my_test_predict = clf.predict_proba(my_X_test)\n",
    "\n",
    "# create DataFrame for displaying test cases and predicted probabilities\n",
    "my_targeting_df = pd.DataFrame(np.hstack([my_X_test, y_my_test_predict]))\n",
    "my_targeting_df.columns = ['default', 'housing', 'loan', \n",
    "                           'predict_NO', 'predict_YES']\n",
    "print('\\n\\nLogistic regression model predictions for test cases:')\n",
    "print(my_targeting_df) "
   ]
  },
  {
   "cell_type": "markdown",
   "metadata": {},
   "source": [
    "From the EDA section of the exercise, we learned that not many customers accepted the bank's direct offer. This was important information because we could look at the features of the customers that did accept the offer in more detail since it was a lot smaller. However, this is not something that would be ideal for a larger data set. \n",
    "\n",
    "After training both classifiers, we arrived at the same result. The results were not extremely promising from simply looking at the AUC score which was approximately 61%. However, we can conclude that both classifer are better than random classifier. \n",
    "\n",
    "In summary, we can conclude that either model would be ideal for the bank given that the results were identical. Although this is not a common occurrence, it is still valid. Furthermore, we would advise the bank to focus their attention on customers that have credit in default but no mortgage or personal loans. The logistic regression model predicts that approximately 18% of customers would say yes to a term deposit offer over the phone. The next likely customer segment is customers that don't have credit in default and no mortage or personal loans. "
   ]
  }
 ],
 "metadata": {
  "kernelspec": {
   "display_name": "Python 3",
   "language": "python",
   "name": "python3"
  },
  "language_info": {
   "codemirror_mode": {
    "name": "ipython",
    "version": 3
   },
   "file_extension": ".py",
   "mimetype": "text/x-python",
   "name": "python",
   "nbconvert_exporter": "python",
   "pygments_lexer": "ipython3",
   "version": "3.6.3"
  }
 },
 "nbformat": 4,
 "nbformat_minor": 2
}
