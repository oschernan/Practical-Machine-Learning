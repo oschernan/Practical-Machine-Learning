{
 "cells": [
  {
   "cell_type": "markdown",
   "metadata": {},
   "source": [
    "# Assignment 3: Neural Networks - Oscar Hernandez "
   ]
  },
  {
   "cell_type": "markdown",
   "metadata": {},
   "source": [
    "## Purpose"
   ]
  },
  {
   "cell_type": "markdown",
   "metadata": {},
   "source": [
    "The purpose of this report will be to build several neural networks utilizing the MNIST dataset (images of digits 0-9). This is all part of the exploratory work being completed to evaluate machine learning technologies as it pertains to optical character recognition. Neural networks can be used for a variety of reasons but in this case it will be for classification purposes. Furthermore, this report will compare each of the neural networks using a benchmark experiment that uses a 2x2 factorial design. The factors that will be used are number of layers and nodes per layer. Various hyperparameter settings will be used. We will output the results of the benchmark experiment, draw conclusions from these results and make a recommendation on which neural network we believe is most trusthworthy.  "
   ]
  },
  {
   "cell_type": "markdown",
   "metadata": {},
   "source": [
    "#### This report will be broken up into Sections that cover the specific methodology that went into arriving at the final recommendation. The report will include and/or cover, at minimum, the following specific items and/or tasks:\n",
    "* Explore the MNIST data set to get a quick understanding of its structure and standardize the entire data set  \n",
    "* Train 4 neural networks using the MNIST data set using different hyperparameter settings and factors\n",
    "* Record the time it took to train each neural network and the accuracy on the training data set\n",
    "* Test each neural network on a test set and record its accuracy \n",
    "* Provide final management recommendation \n"
   ]
  },
  {
   "cell_type": "markdown",
   "metadata": {},
   "source": [
    "### Section 1 - Exploratory Data Analysis & Preparation"
   ]
  },
  {
   "cell_type": "markdown",
   "metadata": {},
   "source": [
    "#### The first step in building a machine learning model is to gain a firm understanding of the data that will be used to train the model. Section 1 covers all the work that was completed as part of the Exploratory Data Analysis (EDA) process along with comments explaining code and output wherever necessary. Section 1 also covers any data preparation steps that were taken prior to building out the neural networks.. "
   ]
  },
  {
   "cell_type": "code",
   "execution_count": 1,
   "metadata": {
    "collapsed": true
   },
   "outputs": [],
   "source": [
    "#Load all the necessary packages we need to complete the exercise\n",
    "\n",
    "import warnings\n",
    "warnings.simplefilter('ignore')\n",
    "import os\n",
    "import pandas as pd\n",
    "import numpy as np\n",
    "import matplotlib.pyplot as plt\n",
    "from sklearn.preprocessing import StandardScaler\n",
    "import time\n",
    "import nbconvert\n",
    "from sklearn.metrics import accuracy_score\n",
    "import plotly.plotly as py\n",
    "import plotly.graph_objs as go"
   ]
  },
  {
   "cell_type": "code",
   "execution_count": 2,
   "metadata": {
    "collapsed": true
   },
   "outputs": [],
   "source": [
    "os.environ['TF_CPP_MIN_LOG_LEVEL'] = '3'"
   ]
  },
  {
   "cell_type": "code",
   "execution_count": 3,
   "metadata": {
    "collapsed": true
   },
   "outputs": [],
   "source": [
    "import tensorflow as tf"
   ]
  },
  {
   "cell_type": "code",
   "execution_count": 4,
   "metadata": {},
   "outputs": [
    {
     "data": {
      "text/plain": [
       "(60000, 785)"
      ]
     },
     "execution_count": 4,
     "metadata": {},
     "output_type": "execute_result"
    }
   ],
   "source": [
    "#Import the MNIST train data set which is 60,000 instances\n",
    "#Display the shape of the newly created object\n",
    "train = pd.read_csv(\"mnist_train.csv\")\n",
    "train.shape"
   ]
  },
  {
   "cell_type": "code",
   "execution_count": 5,
   "metadata": {},
   "outputs": [
    {
     "data": {
      "text/html": [
       "<div>\n",
       "<style scoped>\n",
       "    .dataframe tbody tr th:only-of-type {\n",
       "        vertical-align: middle;\n",
       "    }\n",
       "\n",
       "    .dataframe tbody tr th {\n",
       "        vertical-align: top;\n",
       "    }\n",
       "\n",
       "    .dataframe thead th {\n",
       "        text-align: right;\n",
       "    }\n",
       "</style>\n",
       "<table border=\"1\" class=\"dataframe\">\n",
       "  <thead>\n",
       "    <tr style=\"text-align: right;\">\n",
       "      <th></th>\n",
       "      <th>1x15</th>\n",
       "      <th>1x16</th>\n",
       "      <th>1x17</th>\n",
       "      <th>1x18</th>\n",
       "      <th>1x19</th>\n",
       "    </tr>\n",
       "  </thead>\n",
       "  <tbody>\n",
       "    <tr>\n",
       "      <th>count</th>\n",
       "      <td>60000.000000</td>\n",
       "      <td>60000.000000</td>\n",
       "      <td>60000.0</td>\n",
       "      <td>60000.0</td>\n",
       "      <td>60000.0</td>\n",
       "    </tr>\n",
       "    <tr>\n",
       "      <th>mean</th>\n",
       "      <td>0.003600</td>\n",
       "      <td>0.000150</td>\n",
       "      <td>0.0</td>\n",
       "      <td>0.0</td>\n",
       "      <td>0.0</td>\n",
       "    </tr>\n",
       "    <tr>\n",
       "      <th>std</th>\n",
       "      <td>0.881816</td>\n",
       "      <td>0.036742</td>\n",
       "      <td>0.0</td>\n",
       "      <td>0.0</td>\n",
       "      <td>0.0</td>\n",
       "    </tr>\n",
       "    <tr>\n",
       "      <th>min</th>\n",
       "      <td>0.000000</td>\n",
       "      <td>0.000000</td>\n",
       "      <td>0.0</td>\n",
       "      <td>0.0</td>\n",
       "      <td>0.0</td>\n",
       "    </tr>\n",
       "    <tr>\n",
       "      <th>25%</th>\n",
       "      <td>0.000000</td>\n",
       "      <td>0.000000</td>\n",
       "      <td>0.0</td>\n",
       "      <td>0.0</td>\n",
       "      <td>0.0</td>\n",
       "    </tr>\n",
       "    <tr>\n",
       "      <th>50%</th>\n",
       "      <td>0.000000</td>\n",
       "      <td>0.000000</td>\n",
       "      <td>0.0</td>\n",
       "      <td>0.0</td>\n",
       "      <td>0.0</td>\n",
       "    </tr>\n",
       "    <tr>\n",
       "      <th>75%</th>\n",
       "      <td>0.000000</td>\n",
       "      <td>0.000000</td>\n",
       "      <td>0.0</td>\n",
       "      <td>0.0</td>\n",
       "      <td>0.0</td>\n",
       "    </tr>\n",
       "    <tr>\n",
       "      <th>max</th>\n",
       "      <td>216.000000</td>\n",
       "      <td>9.000000</td>\n",
       "      <td>0.0</td>\n",
       "      <td>0.0</td>\n",
       "      <td>0.0</td>\n",
       "    </tr>\n",
       "  </tbody>\n",
       "</table>\n",
       "</div>"
      ],
      "text/plain": [
       "               1x15          1x16     1x17     1x18     1x19\n",
       "count  60000.000000  60000.000000  60000.0  60000.0  60000.0\n",
       "mean       0.003600      0.000150      0.0      0.0      0.0\n",
       "std        0.881816      0.036742      0.0      0.0      0.0\n",
       "min        0.000000      0.000000      0.0      0.0      0.0\n",
       "25%        0.000000      0.000000      0.0      0.0      0.0\n",
       "50%        0.000000      0.000000      0.0      0.0      0.0\n",
       "75%        0.000000      0.000000      0.0      0.0      0.0\n",
       "max      216.000000      9.000000      0.0      0.0      0.0"
      ]
     },
     "execution_count": 5,
     "metadata": {},
     "output_type": "execute_result"
    }
   ],
   "source": [
    "#Outputs a statistical description of the training data set\n",
    "#We made a generic subset for formatting purposes \n",
    "#The key item to note is that we will need to scale it \n",
    "#based on the values that we see from the output\n",
    "quick_subset = train.iloc[:, 15:20]\n",
    "quick_subset.describe()"
   ]
  },
  {
   "cell_type": "code",
   "execution_count": 6,
   "metadata": {},
   "outputs": [
    {
     "data": {
      "text/plain": [
       "(10000, 785)"
      ]
     },
     "execution_count": 6,
     "metadata": {},
     "output_type": "execute_result"
    }
   ],
   "source": [
    "#Import the MNIST test data set which is 10,000 instances\n",
    "#Display the shape of the newly created object\n",
    "test = pd.read_csv(\"mnist_test.csv\")\n",
    "test.shape"
   ]
  },
  {
   "cell_type": "code",
   "execution_count": 7,
   "metadata": {
    "collapsed": true
   },
   "outputs": [],
   "source": [
    "#Next, split the labels from train and test data set\n",
    "X_train = train.drop(\"label\", axis =1)\n",
    "y_train = train[\"label\"].copy()\n",
    "X_test = test.drop(\"label\", axis =1)\n",
    "y_test = test[\"label\"].copy()"
   ]
  },
  {
   "cell_type": "code",
   "execution_count": 8,
   "metadata": {},
   "outputs": [
    {
     "data": {
      "image/png": "[encoded data removed]",
      "text/plain": [
       "<Figure size 432x288 with 1 Axes>"
      ]
     },
     "metadata": {
      "needs_background": "light"
     },
     "output_type": "display_data"
    }
   ],
   "source": [
    "#Let's quickly take a look at the digit distribution in the\n",
    "#training data set\n",
    "#We can see an uneven distribution of the training data set\n",
    "bar = train['label'].value_counts().plot(kind='bar')\n",
    "plt.show()"
   ]
  },
  {
   "cell_type": "code",
   "execution_count": 9,
   "metadata": {
    "collapsed": true
   },
   "outputs": [],
   "source": [
    "#Now, we need to scale the training and test sets\n",
    "#This will help with the accuracy of the model \n",
    "scaler = StandardScaler()\n",
    "X_train_scaled = scaler.fit_transform(X_train);\n",
    "X_test_scaled = scaler.fit_transform(X_test);"
   ]
  },
  {
   "cell_type": "markdown",
   "metadata": {},
   "source": [
    "###### Key Takeaways \n",
    "* In this section, we started by simply loaded our training and test data sets from CSV files \n",
    "* Next, we split the labels from each data set \n",
    "* We plotted a distribition of the digits in the training data set and noticed that not all the digits appear in the same amount\n",
    "* The final step was then to utilize StandardScaler to scale both the training and test data sets, which will help with the accuracy of our neural networks"
   ]
  },
  {
   "cell_type": "markdown",
   "metadata": {},
   "source": [
    "### Section 2 - Build Neural Networks"
   ]
  },
  {
   "cell_type": "markdown",
   "metadata": {},
   "source": [
    "#### To build out the neural networks, we will be utilized Tensorflow which is arguably the most popular library used for these kinds of exercises. Tensorflow has a clean interface, is scalable and flexible. As discussed, each neural network will have different hyperparameters which will produce different outcomes. This is a part of the benchmark experiment. \n",
    "\n",
    "#### We will be using Tensorflow's high-level API TF.learn to complete this task. Also, we will be recording the time it takes to train each model. "
   ]
  },
  {
   "cell_type": "markdown",
   "metadata": {},
   "source": [
    "#####  Classifier 1 Specs\n",
    "* Two hidden layers\n",
    "* 10 nodes per layer \n",
    "* ReLU activation function\n",
    "* 1000 training iterations using 20 batches of instances"
   ]
  },
  {
   "cell_type": "code",
   "execution_count": null,
   "metadata": {
    "collapsed": true
   },
   "outputs": [],
   "source": [
    "#This code uses the DNNClassifier method to create the model object \n",
    "#with certain hyperparameters\n",
    "#Then the scaled training data and training labels are used to train it\n",
    "#We are also timing how long this block of code took to execute\n",
    "\n",
    "feature_cols = tf.contrib.learn.infer_real_valued_columns_from_input(X_train_scaled)\n",
    "\n",
    "clf1_start_time =time.time()\n",
    "\n",
    "dnn_clf1 = tf.contrib.learn.DNNClassifier(hidden_units=[10,10], \n",
    "                                          n_classes=10,\n",
    "                                         feature_columns=feature_cols, \n",
    "                                         activation_fn = \"relu\")\n",
    "dnn_clf1 = tf.contrib.learn.SKCompat(dnn_clf1) \n",
    "dnn_clf1.fit(X_train_scaled, y_train, batch_size=20, steps=1000)\n",
    "\n",
    "clf1_elapsed_time = time.time() - clf1_start_time"
   ]
  },
  {
   "cell_type": "markdown",
   "metadata": {},
   "source": [
    "#####  Classifier 2 Specs\n",
    "* Two hidden layers\n",
    "* 20 nodes per layer \n",
    "* Sigmoid activation function\n",
    "* 1000 training iterations using 20 batches of instance"
   ]
  },
  {
   "cell_type": "code",
   "execution_count": null,
   "metadata": {
    "collapsed": true
   },
   "outputs": [],
   "source": [
    "clf2_start_time =time.time()\n",
    "\n",
    "dnn_clf2 = tf.contrib.learn.DNNClassifier(hidden_units=[20,20], \n",
    "                                          n_classes=10,\n",
    "                                         feature_columns=feature_cols, \n",
    "                                         activation_fn = \"sigmoid\")\n",
    "dnn_clf2 = tf.contrib.learn.SKCompat(dnn_clf2)  \n",
    "dnn_clf2.fit(X_train_scaled, y_train, batch_size=20, steps=1000)\n",
    "\n",
    "clf2_elapsed_time = time.time() - clf2_start_time"
   ]
  },
  {
   "cell_type": "markdown",
   "metadata": {},
   "source": [
    "#####  Classifier 3 Specs\n",
    "* Four hidden layers\n",
    "* 10 nodes per layer \n",
    "* ReLU activation function\n",
    "* 2000 training iterations using 40 batches of instance"
   ]
  },
  {
   "cell_type": "code",
   "execution_count": null,
   "metadata": {
    "collapsed": true
   },
   "outputs": [],
   "source": [
    "clf3_start_time =time.time()\n",
    "\n",
    "dnn_clf3 = tf.contrib.learn.DNNClassifier(hidden_units=[10,10,10,10],\n",
    "                                          n_classes=10,\n",
    "                                         feature_columns=feature_cols, \n",
    "                                         activation_fn = \"relu\")\n",
    "dnn_clf3 = tf.contrib.learn.SKCompat(dnn_clf3)  \n",
    "dnn_clf3.fit(X_train_scaled, y_train, batch_size=40, steps=2000)\n",
    "\n",
    "clf3_elapsed_time = time.time() - clf3_start_time"
   ]
  },
  {
   "cell_type": "markdown",
   "metadata": {},
   "source": [
    "#####  Classifier 4 Specs\n",
    "* Four hidden layers\n",
    "* 20 nodes per layer \n",
    "* Sigmoid activation function\n",
    "* 2000 training iterations using 40 batches of instance"
   ]
  },
  {
   "cell_type": "code",
   "execution_count": null,
   "metadata": {
    "collapsed": true
   },
   "outputs": [],
   "source": [
    "clf4_start_time =time.time()\n",
    "\n",
    "dnn_clf4 = tf.contrib.learn.DNNClassifier(hidden_units=[20, 20, 20, 20],\n",
    "                                          n_classes=10,\n",
    "                                         feature_columns=feature_cols, \n",
    "                                         activation_fn = \"sigmoid\")\n",
    "dnn_clf4 = tf.contrib.learn.SKCompat(dnn_clf4)  \n",
    "dnn_clf4.fit(X_train_scaled, y_train, batch_size=40, steps=2000)\n",
    "\n",
    "clf4_elapsed_time = time.time() - clf4_start_time"
   ]
  },
  {
   "cell_type": "markdown",
   "metadata": {},
   "source": [
    "##### Key Takeaways\n",
    "* This section was where we trained each neural network using the training data set \n",
    "* As discussed, we used a 2x2 design for the layers and nodes per layers \n",
    "* The first two models had 2 hidden layers and either 10 nodes or 20 nodes, respectively \n",
    "* The last two models had 4 hidden layers and either 10 nodes or 20 nodes, respectively\n",
    "* We alternated between activation functions -- choosing either ReLU or Sigmoid\n",
    "* Lastly, we changed between training iterations and batch sizes which is noted in the description\n",
    "* Overall, as expected, the development time for the first two models was faster given that iterations and hidden layer hyperparameters were smaller  "
   ]
  },
  {
   "cell_type": "markdown",
   "metadata": {},
   "source": [
    "### Section 4 - Model Validation"
   ]
  },
  {
   "cell_type": "markdown",
   "metadata": {},
   "source": [
    "#### This section will  calculate the classification accuracy for the training and test sets for each model "
   ]
  },
  {
   "cell_type": "code",
   "execution_count": 14,
   "metadata": {},
   "outputs": [
    {
     "name": "stdout",
     "output_type": "stream",
     "text": [
      "WARNING:tensorflow:float64 is not supported by many models, consider casting to float32.\n",
      "INFO:tensorflow:Graph was finalized.\n",
      "INFO:tensorflow:Restoring parameters from C:\\Users\\HERNA_~1\\AppData\\Local\\Temp\\tmpj4o1ycab\\model.ckpt-1000\n",
      "INFO:tensorflow:Running local_init_op.\n",
      "INFO:tensorflow:Done running local_init_op.\n"
     ]
    },
    {
     "data": {
      "text/plain": [
       "0.90575"
      ]
     },
     "execution_count": 14,
     "metadata": {},
     "output_type": "execute_result"
    }
   ],
   "source": [
    "#Classifier 1\n",
    "#This code uses the classifer that was built earlier.  \n",
    "#Scikit-Learn module is used to output Subset accuracy which is the\n",
    "#percentage of samples that have all their labels classified correctly\n",
    "#Train\n",
    "y_pred1_train = dnn_clf1.predict(X_train_scaled)\n",
    "accuracy_score(y_train, y_pred1_train['classes'])"
   ]
  },
  {
   "cell_type": "code",
   "execution_count": 15,
   "metadata": {},
   "outputs": [
    {
     "name": "stdout",
     "output_type": "stream",
     "text": [
      "WARNING:tensorflow:float64 is not supported by many models, consider casting to float32.\n",
      "INFO:tensorflow:Graph was finalized.\n",
      "INFO:tensorflow:Restoring parameters from C:\\Users\\HERNA_~1\\AppData\\Local\\Temp\\tmpj4o1ycab\\model.ckpt-1000\n",
      "INFO:tensorflow:Running local_init_op.\n",
      "INFO:tensorflow:Done running local_init_op.\n"
     ]
    },
    {
     "data": {
      "text/plain": [
       "0.9074"
      ]
     },
     "execution_count": 15,
     "metadata": {},
     "output_type": "execute_result"
    }
   ],
   "source": [
    "#Test\n",
    "y_pred1_test = dnn_clf1.predict(X_test_scaled)\n",
    "accuracy_score(y_test, y_pred1_test['classes'])"
   ]
  },
  {
   "cell_type": "code",
   "execution_count": 16,
   "metadata": {},
   "outputs": [
    {
     "name": "stdout",
     "output_type": "stream",
     "text": [
      "WARNING:tensorflow:float64 is not supported by many models, consider casting to float32.\n",
      "INFO:tensorflow:Graph was finalized.\n",
      "INFO:tensorflow:Restoring parameters from C:\\Users\\HERNA_~1\\AppData\\Local\\Temp\\tmpn17a472w\\model.ckpt-1000\n",
      "INFO:tensorflow:Running local_init_op.\n",
      "INFO:tensorflow:Done running local_init_op.\n"
     ]
    },
    {
     "data": {
      "text/plain": [
       "0.8694666666666667"
      ]
     },
     "execution_count": 16,
     "metadata": {},
     "output_type": "execute_result"
    }
   ],
   "source": [
    "#Classifier 2\n",
    "#Train\n",
    "y_pred2_train = dnn_clf2.predict(X_train_scaled)\n",
    "accuracy_score(y_train, y_pred2_train['classes'])"
   ]
  },
  {
   "cell_type": "code",
   "execution_count": 17,
   "metadata": {},
   "outputs": [
    {
     "name": "stdout",
     "output_type": "stream",
     "text": [
      "WARNING:tensorflow:float64 is not supported by many models, consider casting to float32.\n",
      "INFO:tensorflow:Graph was finalized.\n",
      "INFO:tensorflow:Restoring parameters from C:\\Users\\HERNA_~1\\AppData\\Local\\Temp\\tmpn17a472w\\model.ckpt-1000\n",
      "INFO:tensorflow:Running local_init_op.\n",
      "INFO:tensorflow:Done running local_init_op.\n"
     ]
    },
    {
     "data": {
      "text/plain": [
       "0.8698"
      ]
     },
     "execution_count": 17,
     "metadata": {},
     "output_type": "execute_result"
    }
   ],
   "source": [
    "#Test\n",
    "y_pred2_test = dnn_clf2.predict(X_test_scaled)\n",
    "accuracy_score(y_test, y_pred2_test['classes'])"
   ]
  },
  {
   "cell_type": "code",
   "execution_count": 18,
   "metadata": {},
   "outputs": [
    {
     "name": "stdout",
     "output_type": "stream",
     "text": [
      "WARNING:tensorflow:float64 is not supported by many models, consider casting to float32.\n",
      "INFO:tensorflow:Graph was finalized.\n",
      "INFO:tensorflow:Restoring parameters from C:\\Users\\HERNA_~1\\AppData\\Local\\Temp\\tmpcxoa73vl\\model.ckpt-2000\n",
      "INFO:tensorflow:Running local_init_op.\n",
      "INFO:tensorflow:Done running local_init_op.\n"
     ]
    },
    {
     "data": {
      "text/plain": [
       "0.9243666666666667"
      ]
     },
     "execution_count": 18,
     "metadata": {},
     "output_type": "execute_result"
    }
   ],
   "source": [
    "#Classifier 3\n",
    "#Train\n",
    "y_pred3_train = dnn_clf3.predict(X_train_scaled)\n",
    "accuracy_score(y_train, y_pred3_train['classes'])"
   ]
  },
  {
   "cell_type": "code",
   "execution_count": 19,
   "metadata": {},
   "outputs": [
    {
     "name": "stdout",
     "output_type": "stream",
     "text": [
      "WARNING:tensorflow:float64 is not supported by many models, consider casting to float32.\n",
      "INFO:tensorflow:Graph was finalized.\n",
      "INFO:tensorflow:Restoring parameters from C:\\Users\\HERNA_~1\\AppData\\Local\\Temp\\tmpcxoa73vl\\model.ckpt-2000\n",
      "INFO:tensorflow:Running local_init_op.\n",
      "INFO:tensorflow:Done running local_init_op.\n"
     ]
    },
    {
     "data": {
      "text/plain": [
       "0.9224"
      ]
     },
     "execution_count": 19,
     "metadata": {},
     "output_type": "execute_result"
    }
   ],
   "source": [
    "#Test\n",
    "y_pred3_test = dnn_clf3.predict(X_test_scaled)\n",
    "accuracy_score(y_test, y_pred3_test['classes'])"
   ]
  },
  {
   "cell_type": "code",
   "execution_count": 20,
   "metadata": {},
   "outputs": [
    {
     "name": "stdout",
     "output_type": "stream",
     "text": [
      "WARNING:tensorflow:float64 is not supported by many models, consider casting to float32.\n",
      "INFO:tensorflow:Graph was finalized.\n",
      "INFO:tensorflow:Restoring parameters from C:\\Users\\HERNA_~1\\AppData\\Local\\Temp\\tmpjp55gjz3\\model.ckpt-2000\n",
      "INFO:tensorflow:Running local_init_op.\n",
      "INFO:tensorflow:Done running local_init_op.\n"
     ]
    },
    {
     "data": {
      "text/plain": [
       "0.37935"
      ]
     },
     "execution_count": 20,
     "metadata": {},
     "output_type": "execute_result"
    }
   ],
   "source": [
    "#Classifier 4\n",
    "#Train\n",
    "y_pred4_train = dnn_clf4.predict(X_train_scaled)\n",
    "accuracy_score(y_train, y_pred4_train['classes'])"
   ]
  },
  {
   "cell_type": "code",
   "execution_count": 21,
   "metadata": {},
   "outputs": [
    {
     "name": "stdout",
     "output_type": "stream",
     "text": [
      "WARNING:tensorflow:float64 is not supported by many models, consider casting to float32.\n",
      "INFO:tensorflow:Graph was finalized.\n",
      "INFO:tensorflow:Restoring parameters from C:\\Users\\HERNA_~1\\AppData\\Local\\Temp\\tmpjp55gjz3\\model.ckpt-2000\n",
      "INFO:tensorflow:Running local_init_op.\n",
      "INFO:tensorflow:Done running local_init_op.\n"
     ]
    },
    {
     "data": {
      "text/plain": [
       "0.3768"
      ]
     },
     "execution_count": 21,
     "metadata": {},
     "output_type": "execute_result"
    }
   ],
   "source": [
    "#Test\n",
    "y_pred4_test = dnn_clf4.predict(X_test_scaled)\n",
    "accuracy_score(y_test, y_pred4_test['classes'])"
   ]
  },
  {
   "cell_type": "markdown",
   "metadata": {},
   "source": [
    "### Key Takeaways\n",
    "* We used a holdout data set to make predictions using each of our classifiers \n",
    "* The results were divergent across all four sets which was an interesting outcome \n",
    "* Within each classifier, the accuracy scores between the training and test data sets were similar which can be interpreted as lack of overfitting. In other words, if the scores on the test data were lower than the training data, then we could infer overfitting exists\n",
    "* Another interesting observation is that the classifiers with less hidden layers performed better on average than the ones with more hidden layers (the classifiers with less hidden layers also had less training iterations and batch sizes)\n",
    "* The worst model as measured by the accuracy scores was Classifier 4 which had a value approximately less than half of the best model (Classifier 3) "
   ]
  },
  {
   "cell_type": "markdown",
   "metadata": {},
   "source": [
    "### Section 5 - Benchmark Experiment Results and Final Recommendation"
   ]
  },
  {
   "cell_type": "markdown",
   "metadata": {},
   "source": [
    "The conclusion from the benchmark study is that we should use Classifier 1. This neural network had the shortest processing time (6.75 seconds) compared to the other three classifiers and it had a accuracy score slightly over 90%, which was the second highest. The classifier that had a higher score took more than twice as long to build. We believe this is a suitable tradeoff because for a larger data set (also, one that we assume will continue to grow in order to keep training our model in the future), processing time becomes more important. A neural network with a slower processing time could have a real negative impact on the business. Overall, we recommend using a neural network with 2 hidden layers, 10 nodes per layer, ReLU activation function, 1000 training iterations, batch size of 20 and the default Adagrad optimizer. "
   ]
  },
  {
   "cell_type": "markdown",
   "metadata": {},
   "source": [
    "![alt text](Table.jpg \"Table\")"
   ]
  }
 ],
 "metadata": {
  "kernelspec": {
   "display_name": "Python 3",
   "language": "python",
   "name": "python3"
  },
  "language_info": {
   "codemirror_mode": {
    "name": "ipython",
    "version": 3
   },
   "file_extension": ".py",
   "mimetype": "text/x-python",
   "name": "python",
   "nbconvert_exporter": "python",
   "pygments_lexer": "ipython3",
   "version": "3.6.3"
  }
 },
 "nbformat": 4,
 "nbformat_minor": 2
}
