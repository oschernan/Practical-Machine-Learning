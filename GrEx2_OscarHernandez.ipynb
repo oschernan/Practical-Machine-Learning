{
 "cells": [
  {
   "cell_type": "markdown",
   "metadata": {},
   "source": [
    "## GrEx2: XYZ Company Data for Marketing and CRM ##"
   ]
  },
  {
   "cell_type": "markdown",
   "metadata": {},
   "source": [
    "## Part I ##"
   ]
  },
  {
   "cell_type": "markdown",
   "metadata": {},
   "source": [
    "<ol>\n",
    "  <h3>Steps.</h3>\n",
    "  In order to get the data we need for GrEx2, we weed to complete the following steps.\n",
    "  <li>If we are not on campus, we need to first connect to the NU VPN.</li>\n",
    "  <li>Next we will need to use a SSH client (e.g. PuTTy) to connect to the SPN Elasticsearch server. </li>\n",
    "  <li>Once our login information is authenticated, we will the psql client to connect to the xyz database on the PostgreSQL server.</li>\n",
    "  <li>Within the pilot schema of the xzy database, we will execute three \\copy commands to export the customer, item and mail tables into three separate CSV files. These files will get placed in our SPS Elasticsearch server current working directory.</li>\n",
    "  <li>Next we will use an SFTP client (e.g. CyberDuck) to connect to the SPS Elasticsearch server. Once connected, we should see our current working directory and any folder/files that are on it. </li>\n",
    "  <li>Download the customer, item and mail CSV files from our current working directory to our local machine. </li>\n",
    "  <li>Create a pandas DataFrame for each of the CSV files we downloaded.</li>\n",
    "</ol>"
   ]
  },
  {
   "cell_type": "code",
   "execution_count": 1,
   "metadata": {},
   "outputs": [],
   "source": [
    "import pandas as pd #contains I/O functions for various file types include (csv and excel files) \n",
    "import numpy as np  \n",
    "pd.options.mode.chained_assignment = None  # default='warn'"
   ]
  },
  {
   "cell_type": "code",
   "execution_count": 2,
   "metadata": {},
   "outputs": [],
   "source": [
    "# Read in the CSV files using pandas to create the necessary DataFrames \n",
    "item_df = pd.read_csv('.\\\\item.csv', sep = ',')\n",
    "mail_df = pd.read_csv('.\\\\mail.csv', sep = ',')\n",
    "customer_df = pd.read_csv('.\\\\customer.csv', sep = ',')"
   ]
  },
  {
   "cell_type": "code",
   "execution_count": 3,
   "metadata": {},
   "outputs": [
    {
     "data": {
      "text/plain": [
       "Index(['acctno', 'qty', 'trandate', 'tran_channel', 'price', 'totamt',\n",
       "       'orderno', 'deptdescr'],\n",
       "      dtype='object')"
      ]
     },
     "execution_count": 3,
     "metadata": {},
     "output_type": "execute_result"
    }
   ],
   "source": [
    "# Verify the content of item_df DataFrame by displaying column names\n",
    "item_df.columns"
   ]
  },
  {
   "cell_type": "code",
   "execution_count": 4,
   "metadata": {},
   "outputs": [
    {
     "data": {
      "text/plain": [
       "Index(['acctno', 'mail_1', 'mail_2', 'mail_3', 'mail_4', 'mail_5', 'mail_6',\n",
       "       'mail_7', 'mail_8', 'mail_9', 'mail_10', 'mail_11', 'mail_12',\n",
       "       'mail_13', 'mail_14', 'mail_15', 'mail_16'],\n",
       "      dtype='object')"
      ]
     },
     "execution_count": 4,
     "metadata": {},
     "output_type": "execute_result"
    }
   ],
   "source": [
    "# Verify the content of mail_df DataFrame by displaying column names\n",
    "mail_df.columns"
   ]
  },
  {
   "cell_type": "code",
   "execution_count": 5,
   "metadata": {},
   "outputs": [
    {
     "data": {
      "text/plain": [
       "Index(['acctno', 'zip', 'zip4', 'ltd_sales', 'ltd_transactions',\n",
       "       'ytd_sales_2009', 'ytd_transactions_2009', 'channel_acquisition',\n",
       "       'buyer_status', 'zip9_supercode',\n",
       "       ...\n",
       "       'zprchonp', 'ztennis', 'ztennisp', 'ztravdom', 'ztravdop', 'ztravfor',\n",
       "       'ztravfop', 'zvoluntr', 'zvoluntp', 'endofline'],\n",
       "      dtype='object', length=451)"
      ]
     },
     "execution_count": 5,
     "metadata": {},
     "output_type": "execute_result"
    }
   ],
   "source": [
    "# Verify the content of customer_df DataFrame by displaying column names\n",
    "customer_df.columns"
   ]
  },
  {
   "cell_type": "code",
   "execution_count": 6,
   "metadata": {},
   "outputs": [
    {
     "data": {
      "text/plain": [
       "acctno           object\n",
       "qty               int64\n",
       "trandate         object\n",
       "tran_channel     object\n",
       "price           float64\n",
       "totamt          float64\n",
       "orderno          object\n",
       "deptdescr        object\n",
       "dtype: object"
      ]
     },
     "execution_count": 6,
     "metadata": {},
     "output_type": "execute_result"
    }
   ],
   "source": [
    "# Verify the data type of the columns of one (item_df) of our DataFrames\n",
    "item_df.dtypes\n",
    "# item_df has three different data types (object, integer, float) which vary across columns  "
   ]
  },
  {
   "cell_type": "code",
   "execution_count": 7,
   "metadata": {},
   "outputs": [
    {
     "data": {
      "text/html": [
       "<div>\n",
       "<style>\n",
       "    .dataframe thead tr:only-child th {\n",
       "        text-align: right;\n",
       "    }\n",
       "\n",
       "    .dataframe thead th {\n",
       "        text-align: left;\n",
       "    }\n",
       "\n",
       "    .dataframe tbody tr th {\n",
       "        vertical-align: top;\n",
       "    }\n",
       "</style>\n",
       "<table border=\"1\" class=\"dataframe\">\n",
       "  <thead>\n",
       "    <tr style=\"text-align: right;\">\n",
       "      <th></th>\n",
       "      <th>acctno</th>\n",
       "      <th>qty</th>\n",
       "      <th>trandate</th>\n",
       "      <th>tran_channel</th>\n",
       "      <th>price</th>\n",
       "      <th>totamt</th>\n",
       "      <th>orderno</th>\n",
       "      <th>deptdescr</th>\n",
       "    </tr>\n",
       "  </thead>\n",
       "  <tbody>\n",
       "    <tr>\n",
       "      <th>0</th>\n",
       "      <td>AAAAPSSYY</td>\n",
       "      <td>1</td>\n",
       "      <td>12/19/2009</td>\n",
       "      <td>RT</td>\n",
       "      <td>89.85</td>\n",
       "      <td>89.85</td>\n",
       "      <td>CCXUNIKXXXVI</td>\n",
       "      <td>Portable Electronics</td>\n",
       "    </tr>\n",
       "    <tr>\n",
       "      <th>1</th>\n",
       "      <td>AAAAPSSYY</td>\n",
       "      <td>1</td>\n",
       "      <td>12/19/2009</td>\n",
       "      <td>RT</td>\n",
       "      <td>89.85</td>\n",
       "      <td>89.85</td>\n",
       "      <td>CCXUNIKXXXVI</td>\n",
       "      <td>Portable Electronics</td>\n",
       "    </tr>\n",
       "    <tr>\n",
       "      <th>2</th>\n",
       "      <td>AAAASDQWP</td>\n",
       "      <td>1</td>\n",
       "      <td>11/15/2009</td>\n",
       "      <td>RT</td>\n",
       "      <td>79.50</td>\n",
       "      <td>79.50</td>\n",
       "      <td>CCXNEIVXXXVI</td>\n",
       "      <td>Mobile Electronic Accessories</td>\n",
       "    </tr>\n",
       "    <tr>\n",
       "      <th>3</th>\n",
       "      <td>AAAASDQWP</td>\n",
       "      <td>2</td>\n",
       "      <td>12/18/2009</td>\n",
       "      <td>RT</td>\n",
       "      <td>79.50</td>\n",
       "      <td>159.00</td>\n",
       "      <td>CCXRCREXXXKI</td>\n",
       "      <td>Mobile Electronic Accessories</td>\n",
       "    </tr>\n",
       "  </tbody>\n",
       "</table>\n",
       "</div>"
      ],
      "text/plain": [
       "      acctno  qty    trandate tran_channel  price  totamt       orderno  \\\n",
       "0  AAAAPSSYY    1  12/19/2009           RT  89.85   89.85  CCXUNIKXXXVI   \n",
       "1  AAAAPSSYY    1  12/19/2009           RT  89.85   89.85  CCXUNIKXXXVI   \n",
       "2  AAAASDQWP    1  11/15/2009           RT  79.50   79.50  CCXNEIVXXXVI   \n",
       "3  AAAASDQWP    2  12/18/2009           RT  79.50  159.00  CCXRCREXXXKI   \n",
       "\n",
       "                       deptdescr  \n",
       "0           Portable Electronics  \n",
       "1           Portable Electronics  \n",
       "2  Mobile Electronic Accessories  \n",
       "3  Mobile Electronic Accessories  "
      ]
     },
     "execution_count": 7,
     "metadata": {},
     "output_type": "execute_result"
    }
   ],
   "source": [
    "# Verify the content of the first 4 rows of one of our DataFrames\n",
    "# Let's use item_df\n",
    "item_df.head(4)"
   ]
  },
  {
   "cell_type": "markdown",
   "metadata": {},
   "source": [
    "## Part 2 ##"
   ]
  },
  {
   "cell_type": "markdown",
   "metadata": {},
   "source": [
    "<h3> Steps: </h3>\n",
    "      -Write each of the newly created DataFrames to a local SQLite DB named xyz.db. Include only data for active buyers in these tables. Verify that the tables have been written to the SQLite DB correctly. "
   ]
  },
  {
   "cell_type": "code",
   "execution_count": 8,
   "metadata": {},
   "outputs": [],
   "source": [
    "# Create the active_customer DataFrame\n",
    "# An active customer is considered a customer who has \"ACTIVE\" listed in their respective 'buyer_status' column \n",
    "active_customer = customer_df[customer_df['buyer_status']=='ACTIVE']"
   ]
  },
  {
   "cell_type": "code",
   "execution_count": 9,
   "metadata": {},
   "outputs": [],
   "source": [
    "# Create the active_item DataFrame\n",
    "# Use the 'acctno' column from the active_customer DataFrame in order to filter the active customers from item_df\n",
    "pre_active_item = item_df.merge(active_customer, how='inner', on=['acctno'])"
   ]
  },
  {
   "cell_type": "code",
   "execution_count": 10,
   "metadata": {},
   "outputs": [],
   "source": [
    "active_item = pre_active_item[['acctno', 'qty','trandate','tran_channel', 'price', 'totamt', 'orderno', 'deptdescr']]"
   ]
  },
  {
   "cell_type": "code",
   "execution_count": 11,
   "metadata": {},
   "outputs": [],
   "source": [
    "# Create the active_mail DataFrame\n",
    "# Use the 'acctno' column from the active_customer DataFrame in order to filter the active customers from mail_df\n",
    "pre_active_mail = mail_df.merge(active_customer, how='inner', on=['acctno'])"
   ]
  },
  {
   "cell_type": "code",
   "execution_count": 12,
   "metadata": {},
   "outputs": [],
   "source": [
    "active_mail = pre_active_mail[['acctno','mail_1','mail_2','mail_3','mail_4','mail_5','mail_6','mail_7','mail_8','mail_9','mail_10','mail_11','mail_12','mail_13','mail_14','mail_15','mail_16']]"
   ]
  },
  {
   "cell_type": "code",
   "execution_count": 13,
   "metadata": {},
   "outputs": [],
   "source": [
    "# Import library and packages used to create xyz.db \n",
    "import sqlalchemy \n",
    "from sqlalchemy import create_engine"
   ]
  },
  {
   "cell_type": "code",
   "execution_count": 14,
   "metadata": {},
   "outputs": [],
   "source": [
    "# Create SQLAlchemy engine to connect to xyz.db\n",
    "# The file, xyz.db, will be created and saved to the current directory\n",
    "engine=create_engine('sqlite:///xyz.db')  \n",
    "conn=engine.connect()"
   ]
  },
  {
   "cell_type": "code",
   "execution_count": 15,
   "metadata": {},
   "outputs": [],
   "source": [
    "# Write active_customer, active_item and active_mail to a local SQLite DB named xyz.db\n",
    "active_customer.to_sql('active_customer',conn,index=False, if_exists='replace')\n",
    "active_item.to_sql('active_item',conn,index=False, if_exists='replace')\n",
    "active_mail.to_sql('active_mail',conn,index=False, if_exists='replace')"
   ]
  },
  {
   "cell_type": "code",
   "execution_count": 16,
   "metadata": {},
   "outputs": [
    {
     "name": "stdout",
     "output_type": "stream",
     "text": [
      "active_customer, active_item, active_mail\n"
     ]
    }
   ],
   "source": [
    "# Verify that the tables have been written to our SQLite DB correctly\n",
    "table_names_list = engine.table_names()\n",
    "print(*table_names_list, sep=', ')"
   ]
  },
  {
   "cell_type": "code",
   "execution_count": 17,
   "metadata": {},
   "outputs": [
    {
     "name": "stdout",
     "output_type": "stream",
     "text": [
      "   COUNT(*)\n",
      "0     17491\n"
     ]
    },
    {
     "data": {
      "text/plain": [
       "(17491, 451)"
      ]
     },
     "execution_count": 17,
     "metadata": {},
     "output_type": "execute_result"
    }
   ],
   "source": [
    "# We will also verify the tables have been written to our SQLIte DB correctly by returning the rows of each table by querying\n",
    "# We are going to print the results from our query and compare with resuls from using shape on the DataFrame\n",
    "active_customer_count = pd.read_sql_query(\"SELECT COUNT(*) FROM active_customer\",conn)\n",
    "print (active_customer_count)\n",
    "active_customer.shape"
   ]
  },
  {
   "cell_type": "code",
   "execution_count": 18,
   "metadata": {},
   "outputs": [
    {
     "name": "stdout",
     "output_type": "stream",
     "text": [
      "   COUNT(*)\n",
      "0     77121\n"
     ]
    },
    {
     "data": {
      "text/plain": [
       "(77121, 8)"
      ]
     },
     "execution_count": 18,
     "metadata": {},
     "output_type": "execute_result"
    }
   ],
   "source": [
    "# Verifying active_item\n",
    "active_item_count = pd.read_sql_query(\"SELECT COUNT(*) FROM active_item\",conn)\n",
    "print (active_item_count)\n",
    "active_item.shape"
   ]
  },
  {
   "cell_type": "code",
   "execution_count": 19,
   "metadata": {},
   "outputs": [
    {
     "name": "stdout",
     "output_type": "stream",
     "text": [
      "   COUNT(*)\n",
      "0     13714\n"
     ]
    },
    {
     "data": {
      "text/plain": [
       "(13714, 17)"
      ]
     },
     "execution_count": 19,
     "metadata": {},
     "output_type": "execute_result"
    }
   ],
   "source": [
    "# Verifying active_mail\n",
    "active_mail_count = pd.read_sql_query(\"SELECT COUNT(*) FROM active_mail\",conn)\n",
    "print (active_mail_count)\n",
    "active_mail.shape"
   ]
  },
  {
   "cell_type": "markdown",
   "metadata": {},
   "source": [
    "## Part 3 ##"
   ]
  },
  {
   "cell_type": "markdown",
   "metadata": {},
   "source": [
    "<h3> Steps: </h3>\n",
    "      -Using the same data we used for Part 1, create a new DataFrame called custSum that we will also write as a table to xyz.db. This table should have one row per customer record."
   ]
  },
  {
   "cell_type": "code",
   "execution_count": 20,
   "metadata": {},
   "outputs": [
    {
     "name": "stdout",
     "output_type": "stream",
     "text": [
      "2145.0\n"
     ]
    }
   ],
   "source": [
    "# Add a heavy_buyer column to the customer DataFrame with values of either \"Y\" or \"N\" to indicate if the customer is a heavy buyer\n",
    "# A heavy buyer is a customer whose LTD purchasing in 2009 (ltd_sales) is greater than 90% of the LTD purchasing of all customers\n",
    "# We need to determine the 90th percentile of the ltd_sales column entries using quantile method\n",
    "ltd_sale_90th = customer_df['ltd_sales'].quantile(q=0.9)\n",
    "print (ltd_sale_90th)"
   ]
  },
  {
   "cell_type": "code",
   "execution_count": 21,
   "metadata": {},
   "outputs": [],
   "source": [
    "# Create a heavy_buyer condition using np.where and our previously created ltd_sales_90th variable\n",
    "customer_df['heavy_buyer'] = np.where((customer_df.ltd_sales>ltd_sale_90th), \"Y\", \"N\")"
   ]
  },
  {
   "cell_type": "code",
   "execution_count": 22,
   "metadata": {},
   "outputs": [
    {
     "data": {
      "text/html": [
       "<div>\n",
       "<style>\n",
       "    .dataframe thead tr:only-child th {\n",
       "        text-align: right;\n",
       "    }\n",
       "\n",
       "    .dataframe thead th {\n",
       "        text-align: left;\n",
       "    }\n",
       "\n",
       "    .dataframe tbody tr th {\n",
       "        vertical-align: top;\n",
       "    }\n",
       "</style>\n",
       "<table border=\"1\" class=\"dataframe\">\n",
       "  <thead>\n",
       "    <tr style=\"text-align: right;\">\n",
       "      <th></th>\n",
       "      <th>acctno</th>\n",
       "      <th>ltd_sales</th>\n",
       "      <th>heavy_buyer</th>\n",
       "    </tr>\n",
       "  </thead>\n",
       "  <tbody>\n",
       "    <tr>\n",
       "      <th>0</th>\n",
       "      <td>HQYHLQHL</td>\n",
       "      <td>420.0</td>\n",
       "      <td>N</td>\n",
       "    </tr>\n",
       "    <tr>\n",
       "      <th>1</th>\n",
       "      <td>LWYGGQPLW</td>\n",
       "      <td>354.0</td>\n",
       "      <td>N</td>\n",
       "    </tr>\n",
       "    <tr>\n",
       "      <th>2</th>\n",
       "      <td>GAPSQASLA</td>\n",
       "      <td>18.0</td>\n",
       "      <td>N</td>\n",
       "    </tr>\n",
       "    <tr>\n",
       "      <th>3</th>\n",
       "      <td>GAGQDSHLW</td>\n",
       "      <td>174.0</td>\n",
       "      <td>N</td>\n",
       "    </tr>\n",
       "    <tr>\n",
       "      <th>4</th>\n",
       "      <td>GGSSQWLDG</td>\n",
       "      <td>282.0</td>\n",
       "      <td>N</td>\n",
       "    </tr>\n",
       "    <tr>\n",
       "      <th>5</th>\n",
       "      <td>AAQPPQQA</td>\n",
       "      <td>810.0</td>\n",
       "      <td>N</td>\n",
       "    </tr>\n",
       "    <tr>\n",
       "      <th>6</th>\n",
       "      <td>LPPQWGSLL</td>\n",
       "      <td>60.0</td>\n",
       "      <td>N</td>\n",
       "    </tr>\n",
       "    <tr>\n",
       "      <th>7</th>\n",
       "      <td>SPDGWHWPA</td>\n",
       "      <td>30.0</td>\n",
       "      <td>N</td>\n",
       "    </tr>\n",
       "    <tr>\n",
       "      <th>8</th>\n",
       "      <td>PWAYSDADA</td>\n",
       "      <td>1806.0</td>\n",
       "      <td>N</td>\n",
       "    </tr>\n",
       "    <tr>\n",
       "      <th>9</th>\n",
       "      <td>LDYWPQHYY</td>\n",
       "      <td>120.0</td>\n",
       "      <td>N</td>\n",
       "    </tr>\n",
       "    <tr>\n",
       "      <th>10</th>\n",
       "      <td>SQLQSAYQH</td>\n",
       "      <td>471.0</td>\n",
       "      <td>N</td>\n",
       "    </tr>\n",
       "    <tr>\n",
       "      <th>11</th>\n",
       "      <td>GGGDYHHLL</td>\n",
       "      <td>7983.0</td>\n",
       "      <td>Y</td>\n",
       "    </tr>\n",
       "    <tr>\n",
       "      <th>12</th>\n",
       "      <td>GDGQAQSHD</td>\n",
       "      <td>150.0</td>\n",
       "      <td>N</td>\n",
       "    </tr>\n",
       "    <tr>\n",
       "      <th>13</th>\n",
       "      <td>PAGDQQYQD</td>\n",
       "      <td>1605.0</td>\n",
       "      <td>N</td>\n",
       "    </tr>\n",
       "    <tr>\n",
       "      <th>14</th>\n",
       "      <td>WWAPPWDLW</td>\n",
       "      <td>84.0</td>\n",
       "      <td>N</td>\n",
       "    </tr>\n",
       "  </tbody>\n",
       "</table>\n",
       "</div>"
      ],
      "text/plain": [
       "       acctno  ltd_sales heavy_buyer\n",
       "0    HQYHLQHL      420.0           N\n",
       "1   LWYGGQPLW      354.0           N\n",
       "2   GAPSQASLA       18.0           N\n",
       "3   GAGQDSHLW      174.0           N\n",
       "4   GGSSQWLDG      282.0           N\n",
       "5    AAQPPQQA      810.0           N\n",
       "6   LPPQWGSLL       60.0           N\n",
       "7   SPDGWHWPA       30.0           N\n",
       "8   PWAYSDADA     1806.0           N\n",
       "9   LDYWPQHYY      120.0           N\n",
       "10  SQLQSAYQH      471.0           N\n",
       "11  GGGDYHHLL     7983.0           Y\n",
       "12  GDGQAQSHD      150.0           N\n",
       "13  PAGDQQYQD     1605.0           N\n",
       "14  WWAPPWDLW       84.0           N"
      ]
     },
     "execution_count": 22,
     "metadata": {},
     "output_type": "execute_result"
    }
   ],
   "source": [
    "# Check customer_df to see if new column and condition was applied correctly\n",
    "# We can see that acctno GGGDYHHLL had ltd_sales greater than 2145 and was marked as \"Y\" under heavy_buyer column\n",
    "customer_df[['acctno', 'ltd_sales', 'heavy_buyer']].head(15)"
   ]
  },
  {
   "cell_type": "code",
   "execution_count": 23,
   "metadata": {},
   "outputs": [
    {
     "data": {
      "text/html": [
       "<div>\n",
       "<style>\n",
       "    .dataframe thead tr:only-child th {\n",
       "        text-align: right;\n",
       "    }\n",
       "\n",
       "    .dataframe thead th {\n",
       "        text-align: left;\n",
       "    }\n",
       "\n",
       "    .dataframe tbody tr th {\n",
       "        vertical-align: top;\n",
       "    }\n",
       "</style>\n",
       "<table border=\"1\" class=\"dataframe\">\n",
       "  <thead>\n",
       "    <tr style=\"text-align: right;\">\n",
       "      <th>heavy_buyer</th>\n",
       "      <th>N</th>\n",
       "      <th>Y</th>\n",
       "    </tr>\n",
       "    <tr>\n",
       "      <th>ltd sales check</th>\n",
       "      <th></th>\n",
       "      <th></th>\n",
       "    </tr>\n",
       "  </thead>\n",
       "  <tbody>\n",
       "    <tr>\n",
       "      <th>ltd_sales&lt;90th%?</th>\n",
       "      <td>45003</td>\n",
       "      <td>0</td>\n",
       "    </tr>\n",
       "    <tr>\n",
       "      <th>ltd_sales&gt;90th%?</th>\n",
       "      <td>0</td>\n",
       "      <td>4997</td>\n",
       "    </tr>\n",
       "  </tbody>\n",
       "</table>\n",
       "</div>"
      ],
      "text/plain": [
       "heavy_buyer           N     Y\n",
       "ltd sales check              \n",
       "ltd_sales<90th%?  45003     0\n",
       "ltd_sales>90th%?      0  4997"
      ]
     },
     "execution_count": 23,
     "metadata": {},
     "output_type": "execute_result"
    }
   ],
   "source": [
    "# We will verify our heavy_buyer coding by using a crosstab that shows how many heavy_buyers are in the customer_df\n",
    "# For consistency, we are going to use an indicator that shows greater than 90th percentile as opposed to at least, which is \n",
    "# what directions states.  \n",
    "# We can see that there are 4997 heavy_buyer entries (i.e customers)\n",
    "heavy_buyer_crtab = pd.crosstab(np.where(customer_df.heavy_buyer==\"N\", \"ltd_sales<90th%?\",\"ltd_sales>90th%?\"), customer_df.heavy_buyer)\n",
    "heavy_buyer_crtab.index.rename(\"ltd sales check\", inplace=True)\n",
    "heavy_buyer_crtab"
   ]
  },
  {
   "cell_type": "code",
   "execution_count": 24,
   "metadata": {},
   "outputs": [
    {
     "data": {
      "text/plain": [
       "N    45003\n",
       "Y     4997\n",
       "Name: heavy_buyer, dtype: int64"
      ]
     },
     "execution_count": 24,
     "metadata": {},
     "output_type": "execute_result"
    }
   ],
   "source": [
    "# Just another way to verify we have 4997 heavy_buyer entries\n",
    "customer_df['heavy_buyer'].value_counts(dropna=False)"
   ]
  },
  {
   "cell_type": "code",
   "execution_count": 25,
   "metadata": {},
   "outputs": [],
   "source": [
    "# We need to now add columns to customer_df that indicate whether the customer has the following credit cards:\n",
    "# AMEX, Discover, VISA and Mastercard\n",
    "# A customer will get a \"Y\" in new columns we are creating if they have \"Y\" in either amex_reg or amex_prem record\n",
    "# We will use np.where and | to form compound conditionals \n",
    "# Create AMEX column \n",
    "customer_df['has_amex'] = np.where((customer_df.amex_reg=='Y') | (customer_df.amex_prem =='Y'), \"Y\", \"N\")"
   ]
  },
  {
   "cell_type": "code",
   "execution_count": 26,
   "metadata": {},
   "outputs": [],
   "source": [
    "# Create Discover column \n",
    "customer_df['has_disc'] = np.where((customer_df.disc_reg=='Y') | (customer_df.disc_prem=='Y'), \"Y\", \"N\")"
   ]
  },
  {
   "cell_type": "code",
   "execution_count": 27,
   "metadata": {},
   "outputs": [],
   "source": [
    "# Create VISA column\n",
    "customer_df['has_visa'] = np.where((customer_df.visa_reg == 'Y') | (customer_df.visa_prem=='Y'), \"Y\", \"N\")"
   ]
  },
  {
   "cell_type": "code",
   "execution_count": 28,
   "metadata": {},
   "outputs": [],
   "source": [
    "# Create Mastercard column\n",
    "customer_df['has_mc'] = np.where((customer_df.mc_reg == 'Y') | (customer_df.mc_prem=='Y'), \"Y\", \"N\")"
   ]
  },
  {
   "cell_type": "code",
   "execution_count": 29,
   "metadata": {},
   "outputs": [
    {
     "data": {
      "text/html": [
       "<div>\n",
       "<style>\n",
       "    .dataframe thead tr:only-child th {\n",
       "        text-align: right;\n",
       "    }\n",
       "\n",
       "    .dataframe thead th {\n",
       "        text-align: left;\n",
       "    }\n",
       "\n",
       "    .dataframe tbody tr th {\n",
       "        vertical-align: top;\n",
       "    }\n",
       "</style>\n",
       "<table border=\"1\" class=\"dataframe\">\n",
       "  <thead>\n",
       "    <tr style=\"text-align: right;\">\n",
       "      <th></th>\n",
       "      <th>visa_reg</th>\n",
       "      <th>visa_prem</th>\n",
       "      <th>has_visa</th>\n",
       "    </tr>\n",
       "  </thead>\n",
       "  <tbody>\n",
       "    <tr>\n",
       "      <th>0</th>\n",
       "      <td>Y</td>\n",
       "      <td>U</td>\n",
       "      <td>Y</td>\n",
       "    </tr>\n",
       "    <tr>\n",
       "      <th>1</th>\n",
       "      <td>NaN</td>\n",
       "      <td>NaN</td>\n",
       "      <td>N</td>\n",
       "    </tr>\n",
       "    <tr>\n",
       "      <th>2</th>\n",
       "      <td>NaN</td>\n",
       "      <td>NaN</td>\n",
       "      <td>N</td>\n",
       "    </tr>\n",
       "    <tr>\n",
       "      <th>3</th>\n",
       "      <td>NaN</td>\n",
       "      <td>NaN</td>\n",
       "      <td>N</td>\n",
       "    </tr>\n",
       "    <tr>\n",
       "      <th>4</th>\n",
       "      <td>NaN</td>\n",
       "      <td>NaN</td>\n",
       "      <td>N</td>\n",
       "    </tr>\n",
       "    <tr>\n",
       "      <th>5</th>\n",
       "      <td>U</td>\n",
       "      <td>U</td>\n",
       "      <td>N</td>\n",
       "    </tr>\n",
       "    <tr>\n",
       "      <th>6</th>\n",
       "      <td>NaN</td>\n",
       "      <td>NaN</td>\n",
       "      <td>N</td>\n",
       "    </tr>\n",
       "    <tr>\n",
       "      <th>7</th>\n",
       "      <td>NaN</td>\n",
       "      <td>NaN</td>\n",
       "      <td>N</td>\n",
       "    </tr>\n",
       "    <tr>\n",
       "      <th>8</th>\n",
       "      <td>NaN</td>\n",
       "      <td>NaN</td>\n",
       "      <td>N</td>\n",
       "    </tr>\n",
       "    <tr>\n",
       "      <th>9</th>\n",
       "      <td>NaN</td>\n",
       "      <td>NaN</td>\n",
       "      <td>N</td>\n",
       "    </tr>\n",
       "  </tbody>\n",
       "</table>\n",
       "</div>"
      ],
      "text/plain": [
       "  visa_reg visa_prem has_visa\n",
       "0        Y         U        Y\n",
       "1      NaN       NaN        N\n",
       "2      NaN       NaN        N\n",
       "3      NaN       NaN        N\n",
       "4      NaN       NaN        N\n",
       "5        U         U        N\n",
       "6      NaN       NaN        N\n",
       "7      NaN       NaN        N\n",
       "8      NaN       NaN        N\n",
       "9      NaN       NaN        N"
      ]
     },
     "execution_count": 29,
     "metadata": {},
     "output_type": "execute_result"
    }
   ],
   "source": [
    "# Check VISA data \n",
    "customer_df[['visa_reg', 'visa_prem','has_visa']].head(10)\n",
    "# We can see that our code is correct. Note that NaN values were given a \"N\" under has_visa which makes sense "
   ]
  },
  {
   "cell_type": "code",
   "execution_count": 30,
   "metadata": {},
   "outputs": [
    {
     "data": {
      "text/html": [
       "<div>\n",
       "<style>\n",
       "    .dataframe thead tr:only-child th {\n",
       "        text-align: right;\n",
       "    }\n",
       "\n",
       "    .dataframe thead th {\n",
       "        text-align: left;\n",
       "    }\n",
       "\n",
       "    .dataframe tbody tr th {\n",
       "        vertical-align: top;\n",
       "    }\n",
       "</style>\n",
       "<table border=\"1\" class=\"dataframe\">\n",
       "  <thead>\n",
       "    <tr style=\"text-align: right;\">\n",
       "      <th></th>\n",
       "      <th>has_visa</th>\n",
       "      <th>N</th>\n",
       "      <th>Y</th>\n",
       "    </tr>\n",
       "    <tr>\n",
       "      <th>visa_reg</th>\n",
       "      <th>visa_prem</th>\n",
       "      <th></th>\n",
       "      <th></th>\n",
       "    </tr>\n",
       "  </thead>\n",
       "  <tbody>\n",
       "    <tr>\n",
       "      <th rowspan=\"2\" valign=\"top\">U</th>\n",
       "      <th>U</th>\n",
       "      <td>8104</td>\n",
       "      <td>0</td>\n",
       "    </tr>\n",
       "    <tr>\n",
       "      <th>Y</th>\n",
       "      <td>0</td>\n",
       "      <td>86</td>\n",
       "    </tr>\n",
       "    <tr>\n",
       "      <th rowspan=\"2\" valign=\"top\">Y</th>\n",
       "      <th>U</th>\n",
       "      <td>0</td>\n",
       "      <td>23045</td>\n",
       "    </tr>\n",
       "    <tr>\n",
       "      <th>Y</th>\n",
       "      <td>0</td>\n",
       "      <td>370</td>\n",
       "    </tr>\n",
       "  </tbody>\n",
       "</table>\n",
       "</div>"
      ],
      "text/plain": [
       "has_visa               N      Y\n",
       "visa_reg visa_prem             \n",
       "U        U          8104      0\n",
       "         Y             0     86\n",
       "Y        U             0  23045\n",
       "         Y             0    370"
      ]
     },
     "execution_count": 30,
     "metadata": {},
     "output_type": "execute_result"
    }
   ],
   "source": [
    "# We will use crosstab again to verify our code is correct using VISA data\n",
    "visa_crtab = pd.crosstab([customer_df.visa_reg, customer_df.visa_prem], customer_df.has_visa)\n",
    "visa_crtab\n",
    "# We can see that there are 23501 customers that have either a visa_reg or visa_prem, which means they have at least one type"
   ]
  },
  {
   "cell_type": "code",
   "execution_count": 31,
   "metadata": {},
   "outputs": [],
   "source": [
    "# We can now begin constructing our custSum DataFrame\n",
    "# We will add acctno so we can relate custSum to other tables in our xyz database\n",
    "# The other columns were added based on instructions \n",
    "custSum = customer_df[['acctno', 'zip', 'zip4', 'ltd_sales', 'amex_reg', 'amex_prem',\n",
    "       'med_inc', 'adult1_g', 'adult1_g', 'disc_reg', 'disc_prem', 'visa_reg',\n",
    "       'visa_prem', 'mc_reg', 'mc_prem', 'heavy_buyer', 'has_amex', 'has_disc',\n",
    "       'has_mc', 'has_visa']]"
   ]
  },
  {
   "cell_type": "code",
   "execution_count": 32,
   "metadata": {},
   "outputs": [],
   "source": [
    "# Write custSum to our xyz database \n",
    "custSum.to_sql('custSum',conn,index=False, if_exists='replace')"
   ]
  },
  {
   "cell_type": "code",
   "execution_count": 33,
   "metadata": {},
   "outputs": [
    {
     "name": "stdout",
     "output_type": "stream",
     "text": [
      "active_customer, active_item, active_mail, custSum\n"
     ]
    }
   ],
   "source": [
    "# Verify that the tables have been written to our SQLite DB correctly\n",
    "table_names_list = engine.table_names()\n",
    "print(*table_names_list, sep=', ')"
   ]
  },
  {
   "cell_type": "code",
   "execution_count": 34,
   "metadata": {},
   "outputs": [
    {
     "name": "stdout",
     "output_type": "stream",
     "text": [
      "   COUNT(*)\n",
      "0     50000\n"
     ]
    },
    {
     "data": {
      "text/plain": [
       "(50000, 20)"
      ]
     },
     "execution_count": 34,
     "metadata": {},
     "output_type": "execute_result"
    }
   ],
   "source": [
    "# We will also verify the custSum table have been written to our SQLIte DB correctly by returning the rows by querying\n",
    "# We are going to print the results from our query and compare with resuls from using shape on the DataFrame\n",
    "custSum_count = pd.read_sql_query(\"SELECT COUNT(*) FROM custSum\",conn)\n",
    "print (custSum_count)\n",
    "custSum.shape"
   ]
  },
  {
   "cell_type": "code",
   "execution_count": null,
   "metadata": {},
   "outputs": [],
   "source": []
  },
  {
   "cell_type": "markdown",
   "metadata": {},
   "source": [
    "## Part 4 ##"
   ]
  },
  {
   "cell_type": "markdown",
   "metadata": {},
   "source": [
    "<h3> Steps: </h3>\n",
    "      -Create a new pandas DataFrame called market_df that will be used for target maketing and write it out to a headered csv ﬁle."
   ]
  },
  {
   "cell_type": "code",
   "execution_count": 35,
   "metadata": {},
   "outputs": [],
   "source": [
    "# We are going to create a DataFrame called \"market_df\" which will list both lapsed and active customers and show us the total amount of products\n",
    "# they purchased in seven distinct product categories\n",
    "# First, we will create a DataFrame \"pre_market_df\" which include the acctno, buyer_status and ltd_sales columns from customer_df\n",
    "# This DataFrame will have rows for only active or lapsed customers\n",
    "pre_market_df = customer_df[customer_df['buyer_status']!= \"INACTIVE\"]\n",
    "pre_market_df = pre_market_df[['acctno', 'buyer_status', 'ltd_sales']]"
   ]
  },
  {
   "cell_type": "code",
   "execution_count": 36,
   "metadata": {},
   "outputs": [
    {
     "data": {
      "text/html": [
       "<div>\n",
       "<style>\n",
       "    .dataframe thead tr:only-child th {\n",
       "        text-align: right;\n",
       "    }\n",
       "\n",
       "    .dataframe thead th {\n",
       "        text-align: left;\n",
       "    }\n",
       "\n",
       "    .dataframe tbody tr th {\n",
       "        vertical-align: top;\n",
       "    }\n",
       "</style>\n",
       "<table border=\"1\" class=\"dataframe\">\n",
       "  <thead>\n",
       "    <tr style=\"text-align: right;\">\n",
       "      <th></th>\n",
       "      <th>acctno</th>\n",
       "      <th>Appliances</th>\n",
       "      <th>Cameras &amp; Camcorder Accessori</th>\n",
       "      <th>Home Audio</th>\n",
       "      <th>Mobile Electronic Accessories</th>\n",
       "      <th>Mobile Electronics</th>\n",
       "      <th>Portable Electronics</th>\n",
       "      <th>Small Appliances</th>\n",
       "    </tr>\n",
       "  </thead>\n",
       "  <tbody>\n",
       "    <tr>\n",
       "      <th>0</th>\n",
       "      <td>AAAAPSSYY</td>\n",
       "      <td>0.0</td>\n",
       "      <td>0.0</td>\n",
       "      <td>0.0</td>\n",
       "      <td>0.0</td>\n",
       "      <td>0.0</td>\n",
       "      <td>2.0</td>\n",
       "      <td>0.0</td>\n",
       "    </tr>\n",
       "    <tr>\n",
       "      <th>1</th>\n",
       "      <td>AAAASDQWP</td>\n",
       "      <td>0.0</td>\n",
       "      <td>0.0</td>\n",
       "      <td>0.0</td>\n",
       "      <td>4.0</td>\n",
       "      <td>0.0</td>\n",
       "      <td>0.0</td>\n",
       "      <td>1.0</td>\n",
       "    </tr>\n",
       "    <tr>\n",
       "      <th>2</th>\n",
       "      <td>AAAASYHQW</td>\n",
       "      <td>0.0</td>\n",
       "      <td>0.0</td>\n",
       "      <td>0.0</td>\n",
       "      <td>0.0</td>\n",
       "      <td>2.0</td>\n",
       "      <td>0.0</td>\n",
       "      <td>0.0</td>\n",
       "    </tr>\n",
       "    <tr>\n",
       "      <th>3</th>\n",
       "      <td>AAAASYLYG</td>\n",
       "      <td>0.0</td>\n",
       "      <td>0.0</td>\n",
       "      <td>0.0</td>\n",
       "      <td>0.0</td>\n",
       "      <td>1.0</td>\n",
       "      <td>0.0</td>\n",
       "      <td>0.0</td>\n",
       "    </tr>\n",
       "    <tr>\n",
       "      <th>4</th>\n",
       "      <td>AAAASYPHD</td>\n",
       "      <td>0.0</td>\n",
       "      <td>0.0</td>\n",
       "      <td>0.0</td>\n",
       "      <td>4.0</td>\n",
       "      <td>0.0</td>\n",
       "      <td>0.0</td>\n",
       "      <td>0.0</td>\n",
       "    </tr>\n",
       "    <tr>\n",
       "      <th>5</th>\n",
       "      <td>AAAASYPPG</td>\n",
       "      <td>0.0</td>\n",
       "      <td>0.0</td>\n",
       "      <td>0.0</td>\n",
       "      <td>0.0</td>\n",
       "      <td>0.0</td>\n",
       "      <td>0.0</td>\n",
       "      <td>1.0</td>\n",
       "    </tr>\n",
       "    <tr>\n",
       "      <th>6</th>\n",
       "      <td>AAAASYPYH</td>\n",
       "      <td>0.0</td>\n",
       "      <td>0.0</td>\n",
       "      <td>1.0</td>\n",
       "      <td>2.0</td>\n",
       "      <td>0.0</td>\n",
       "      <td>0.0</td>\n",
       "      <td>0.0</td>\n",
       "    </tr>\n",
       "    <tr>\n",
       "      <th>7</th>\n",
       "      <td>AAAASYYPA</td>\n",
       "      <td>0.0</td>\n",
       "      <td>0.0</td>\n",
       "      <td>0.0</td>\n",
       "      <td>1.0</td>\n",
       "      <td>0.0</td>\n",
       "      <td>0.0</td>\n",
       "      <td>0.0</td>\n",
       "    </tr>\n",
       "    <tr>\n",
       "      <th>8</th>\n",
       "      <td>AAADPSLAP</td>\n",
       "      <td>0.0</td>\n",
       "      <td>0.0</td>\n",
       "      <td>0.0</td>\n",
       "      <td>3.0</td>\n",
       "      <td>0.0</td>\n",
       "      <td>0.0</td>\n",
       "      <td>0.0</td>\n",
       "    </tr>\n",
       "    <tr>\n",
       "      <th>9</th>\n",
       "      <td>AAAGPLGDD</td>\n",
       "      <td>0.0</td>\n",
       "      <td>0.0</td>\n",
       "      <td>0.0</td>\n",
       "      <td>0.0</td>\n",
       "      <td>1.0</td>\n",
       "      <td>1.0</td>\n",
       "      <td>0.0</td>\n",
       "    </tr>\n",
       "  </tbody>\n",
       "</table>\n",
       "</div>"
      ],
      "text/plain": [
       "      acctno  Appliances  Cameras & Camcorder Accessori  Home Audio  \\\n",
       "0  AAAAPSSYY         0.0                            0.0         0.0   \n",
       "1  AAAASDQWP         0.0                            0.0         0.0   \n",
       "2  AAAASYHQW         0.0                            0.0         0.0   \n",
       "3  AAAASYLYG         0.0                            0.0         0.0   \n",
       "4  AAAASYPHD         0.0                            0.0         0.0   \n",
       "5  AAAASYPPG         0.0                            0.0         0.0   \n",
       "6  AAAASYPYH         0.0                            0.0         1.0   \n",
       "7  AAAASYYPA         0.0                            0.0         0.0   \n",
       "8  AAADPSLAP         0.0                            0.0         0.0   \n",
       "9  AAAGPLGDD         0.0                            0.0         0.0   \n",
       "\n",
       "   Mobile Electronic Accessories  Mobile Electronics  Portable Electronics  \\\n",
       "0                            0.0                 0.0                   2.0   \n",
       "1                            4.0                 0.0                   0.0   \n",
       "2                            0.0                 2.0                   0.0   \n",
       "3                            0.0                 1.0                   0.0   \n",
       "4                            4.0                 0.0                   0.0   \n",
       "5                            0.0                 0.0                   0.0   \n",
       "6                            2.0                 0.0                   0.0   \n",
       "7                            1.0                 0.0                   0.0   \n",
       "8                            3.0                 0.0                   0.0   \n",
       "9                            0.0                 1.0                   1.0   \n",
       "\n",
       "   Small Appliances  \n",
       "0               0.0  \n",
       "1               1.0  \n",
       "2               0.0  \n",
       "3               0.0  \n",
       "4               0.0  \n",
       "5               1.0  \n",
       "6               0.0  \n",
       "7               0.0  \n",
       "8               0.0  \n",
       "9               0.0  "
      ]
     },
     "execution_count": 36,
     "metadata": {},
     "output_type": "execute_result"
    }
   ],
   "source": [
    "# We need to use a copy of the item_df in order to get the data for how many products were purchased by category\n",
    "# We will use the groupby() method on acctno in order to group all the customers into one row since some customers made multiple purchases\n",
    "# Using the unstack() method on the deptdescr column shows how many products were purchased in each category \n",
    "updated_item_df = item_df.copy()\n",
    "pre_market2_df=updated_item_df.groupby('acctno')['deptdescr'].value_counts().unstack().fillna(0).reset_index()\n",
    "del pre_market2_df.columns.name\n",
    "pre_market2_df.head(10)"
   ]
  },
  {
   "cell_type": "code",
   "execution_count": 37,
   "metadata": {},
   "outputs": [],
   "source": [
    "# Now we can create the'market_df' by merging the 'pre_market_df' and 'pre_market2_df' \n",
    "# Essentially this line of code selects all the active and lapsed customers which is what we want\n",
    "market_df = pre_market_df.merge(pre_market2_df, on='acctno', how='outer')"
   ]
  },
  {
   "cell_type": "code",
   "execution_count": 38,
   "metadata": {},
   "outputs": [],
   "source": [
    "# The following lines of code are being exeucted in order to turn all NaN values into 0\n",
    "# 0 indicaates that the customer did not make a purchase in that category \n",
    "market_df['Appliances'].replace(np.nan,0, inplace=True)\n",
    "market_df['Cameras & Camcorder Accessori'].replace(np.nan,0, inplace=True)\n",
    "market_df['Home Audio'].replace(np.nan,0, inplace=True)\n",
    "market_df['Mobile Electronic Accessories'].replace(np.nan,0, inplace=True)\n",
    "market_df['Mobile Electronics'].replace(np.nan,0, inplace=True)\n",
    "market_df['Portable Electronics'].replace(np.nan,0, inplace=True)\n",
    "market_df['Small Appliances'].replace(np.nan,0, inplace=True)"
   ]
  },
  {
   "cell_type": "code",
   "execution_count": 39,
   "metadata": {},
   "outputs": [
    {
     "data": {
      "text/html": [
       "<div>\n",
       "<style>\n",
       "    .dataframe thead tr:only-child th {\n",
       "        text-align: right;\n",
       "    }\n",
       "\n",
       "    .dataframe thead th {\n",
       "        text-align: left;\n",
       "    }\n",
       "\n",
       "    .dataframe tbody tr th {\n",
       "        vertical-align: top;\n",
       "    }\n",
       "</style>\n",
       "<table border=\"1\" class=\"dataframe\">\n",
       "  <thead>\n",
       "    <tr style=\"text-align: right;\">\n",
       "      <th></th>\n",
       "      <th>acctno</th>\n",
       "      <th>buyer_status</th>\n",
       "      <th>ltd_sales</th>\n",
       "      <th>Appliances</th>\n",
       "      <th>Cameras &amp; Camcorder Accessori</th>\n",
       "      <th>Home Audio</th>\n",
       "      <th>Mobile Electronic Accessories</th>\n",
       "      <th>Mobile Electronics</th>\n",
       "      <th>Portable Electronics</th>\n",
       "      <th>Small Appliances</th>\n",
       "    </tr>\n",
       "  </thead>\n",
       "  <tbody>\n",
       "    <tr>\n",
       "      <th>27747</th>\n",
       "      <td>AAAAPAHGQ</td>\n",
       "      <td>LAPSED</td>\n",
       "      <td>90.0</td>\n",
       "      <td>0.0</td>\n",
       "      <td>0.0</td>\n",
       "      <td>0.0</td>\n",
       "      <td>0.0</td>\n",
       "      <td>0.0</td>\n",
       "      <td>0.0</td>\n",
       "      <td>0.0</td>\n",
       "    </tr>\n",
       "    <tr>\n",
       "      <th>5580</th>\n",
       "      <td>AAAAPSSYY</td>\n",
       "      <td>ACTIVE</td>\n",
       "      <td>2160.0</td>\n",
       "      <td>0.0</td>\n",
       "      <td>0.0</td>\n",
       "      <td>0.0</td>\n",
       "      <td>0.0</td>\n",
       "      <td>0.0</td>\n",
       "      <td>2.0</td>\n",
       "      <td>0.0</td>\n",
       "    </tr>\n",
       "    <tr>\n",
       "      <th>2198</th>\n",
       "      <td>AAAASDQPY</td>\n",
       "      <td>LAPSED</td>\n",
       "      <td>960.0</td>\n",
       "      <td>0.0</td>\n",
       "      <td>0.0</td>\n",
       "      <td>0.0</td>\n",
       "      <td>0.0</td>\n",
       "      <td>0.0</td>\n",
       "      <td>0.0</td>\n",
       "      <td>0.0</td>\n",
       "    </tr>\n",
       "    <tr>\n",
       "      <th>2653</th>\n",
       "      <td>AAAASDQWP</td>\n",
       "      <td>ACTIVE</td>\n",
       "      <td>3513.0</td>\n",
       "      <td>0.0</td>\n",
       "      <td>0.0</td>\n",
       "      <td>0.0</td>\n",
       "      <td>4.0</td>\n",
       "      <td>0.0</td>\n",
       "      <td>0.0</td>\n",
       "      <td>1.0</td>\n",
       "    </tr>\n",
       "    <tr>\n",
       "      <th>20642</th>\n",
       "      <td>AAAASYHQW</td>\n",
       "      <td>ACTIVE</td>\n",
       "      <td>858.0</td>\n",
       "      <td>0.0</td>\n",
       "      <td>0.0</td>\n",
       "      <td>0.0</td>\n",
       "      <td>0.0</td>\n",
       "      <td>2.0</td>\n",
       "      <td>0.0</td>\n",
       "      <td>0.0</td>\n",
       "    </tr>\n",
       "  </tbody>\n",
       "</table>\n",
       "</div>"
      ],
      "text/plain": [
       "          acctno buyer_status  ltd_sales  Appliances  \\\n",
       "27747  AAAAPAHGQ       LAPSED       90.0         0.0   \n",
       "5580   AAAAPSSYY       ACTIVE     2160.0         0.0   \n",
       "2198   AAAASDQPY       LAPSED      960.0         0.0   \n",
       "2653   AAAASDQWP       ACTIVE     3513.0         0.0   \n",
       "20642  AAAASYHQW       ACTIVE      858.0         0.0   \n",
       "\n",
       "       Cameras & Camcorder Accessori  Home Audio  \\\n",
       "27747                            0.0         0.0   \n",
       "5580                             0.0         0.0   \n",
       "2198                             0.0         0.0   \n",
       "2653                             0.0         0.0   \n",
       "20642                            0.0         0.0   \n",
       "\n",
       "       Mobile Electronic Accessories  Mobile Electronics  \\\n",
       "27747                            0.0                 0.0   \n",
       "5580                             0.0                 0.0   \n",
       "2198                             0.0                 0.0   \n",
       "2653                             4.0                 0.0   \n",
       "20642                            0.0                 2.0   \n",
       "\n",
       "       Portable Electronics  Small Appliances  \n",
       "27747                   0.0               0.0  \n",
       "5580                    2.0               0.0  \n",
       "2198                    0.0               0.0  \n",
       "2653                    0.0               1.0  \n",
       "20642                   0.0               0.0  "
      ]
     },
     "execution_count": 39,
     "metadata": {},
     "output_type": "execute_result"
    }
   ],
   "source": [
    "# We will use the sort_values function to display our final DataFrame \n",
    "market_df.sort_values(by='acctno').head(5)"
   ]
  },
  {
   "cell_type": "code",
   "execution_count": 40,
   "metadata": {},
   "outputs": [],
   "source": [
    "# We will write market_df as a headered CSV file\n",
    "market_df.to_csv('market_df.csv', index=False)"
   ]
  },
  {
   "cell_type": "code",
   "execution_count": 41,
   "metadata": {},
   "outputs": [
    {
     "data": {
      "text/plain": [
       "True"
      ]
     },
     "execution_count": 41,
     "metadata": {},
     "output_type": "execute_result"
    }
   ],
   "source": [
    "# Check to see that the CSV file was written correctly by reading it back in and use the equals method\n",
    "# If the output is True then we can confirm that the market_df DataFrame was written correctly to the CSV file\n",
    "verify_market_df = pd.read_csv('.\\\\market_df.csv', sep=',' )\n",
    "verify_market_df.equals(market_df)\n"
   ]
  },
  {
   "cell_type": "code",
   "execution_count": 42,
   "metadata": {},
   "outputs": [],
   "source": [
    "# We will also store the 'market_df' DataFrame in a shelve database called 'xyzShelf'\n",
    "# Import the shelve module and create empty 'xyzShelf'\n",
    "import shelve \n",
    "xyz_db=shelve.open('xyzShelf')  "
   ]
  },
  {
   "cell_type": "code",
   "execution_count": 43,
   "metadata": {},
   "outputs": [],
   "source": [
    "# Along with storing the 'market_df' DataFrame, we will also go ahead and store 'custSum', 'active_customer', 'active_item', and 'active_mail'\n",
    "# We will assign each DataFrame to a key in the shelf and then close the shelf\n",
    "xyz_db['market_df'] = market_df\n",
    "xyz_db['custSum'] = custSum\n",
    "xyz_db['active_customer'] = active_customer\n",
    "xyz_db['active_iteml'] = active_item\n",
    "xyz_db['active_mail'] = active_mail\n",
    "xyz_db.close() "
   ]
  },
  {
   "cell_type": "code",
   "execution_count": 44,
   "metadata": {},
   "outputs": [
    {
     "data": {
      "text/plain": [
       "True"
      ]
     },
     "execution_count": 44,
     "metadata": {},
     "output_type": "execute_result"
    }
   ],
   "source": [
    "# Check to see that our DataFrames were stored correctly in the 'xyzShelf' by opening it and then reading in two keys\n",
    "# We will use the equals method to verify everything is correct\n",
    "# If the output is True then we can confirm that the DataFrames were written correctly to the 'xyzShelf'\n",
    "# We will check 'custSum'\n",
    "xyzShelfBack = shelve.open('xyzShelf')\n",
    "verify_custSum = xyzShelfBack['custSum']\n",
    "verify_custSum.equals(custSum)"
   ]
  },
  {
   "cell_type": "code",
   "execution_count": 45,
   "metadata": {},
   "outputs": [
    {
     "data": {
      "text/plain": [
       "True"
      ]
     },
     "execution_count": 45,
     "metadata": {},
     "output_type": "execute_result"
    }
   ],
   "source": [
    "# Let's also check 'active_mail'\n",
    "verify_active_mail = xyzShelfBack['active_mail']\n",
    "verify_active_mail.equals(active_mail)"
   ]
  }
 ],
 "metadata": {
  "kernelspec": {
   "display_name": "Python 3",
   "language": "python",
   "name": "python3"
  },
  "language_info": {
   "codemirror_mode": {
    "name": "ipython",
    "version": 3
   },
   "file_extension": ".py",
   "mimetype": "text/x-python",
   "name": "python",
   "nbconvert_exporter": "python",
   "pygments_lexer": "ipython3",
   "version": "3.6.3"
  }
 },
 "nbformat": 4,
 "nbformat_minor": 2
}
